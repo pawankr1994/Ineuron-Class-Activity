{
 "cells": [
  {
   "cell_type": "code",
   "execution_count": 10,
   "id": "766d5386",
   "metadata": {},
   "outputs": [],
   "source": [
    "def test(a, b):\n",
    "    '''this is my fuction for addition'''\n",
    "    return a + b\n",
    "    "
   ]
  },
  {
   "cell_type": "code",
   "execution_count": 9,
   "id": "a75cbe47",
   "metadata": {},
   "outputs": [
    {
     "data": {
      "text/plain": [
       "11"
      ]
     },
     "execution_count": 9,
     "metadata": {},
     "output_type": "execute_result"
    }
   ],
   "source": [
    "test(5 ,6)"
   ]
  },
  {
   "cell_type": "code",
   "execution_count": 6,
   "id": "a72c72ea",
   "metadata": {},
   "outputs": [
    {
     "data": {
      "text/plain": [
       "'pawan kumar'"
      ]
     },
     "execution_count": 6,
     "metadata": {},
     "output_type": "execute_result"
    }
   ],
   "source": [
    "test('pawan ' , 'kumar')"
   ]
  },
  {
   "cell_type": "code",
   "execution_count": 7,
   "id": "7a79387d",
   "metadata": {},
   "outputs": [
    {
     "data": {
      "text/plain": [
       "13"
      ]
     },
     "execution_count": 7,
     "metadata": {},
     "output_type": "execute_result"
    }
   ],
   "source": [
    "test(b = 6, a= 7)"
   ]
  },
  {
   "cell_type": "code",
   "execution_count": null,
   "id": "afd6e159",
   "metadata": {},
   "outputs": [],
   "source": [
    "print()"
   ]
  },
  {
   "cell_type": "code",
   "execution_count": 11,
   "id": "f0d68e45",
   "metadata": {},
   "outputs": [],
   "source": [
    "def test1(a,b,c,d,e):\n",
    "    return a,b,c,d,e"
   ]
  },
  {
   "cell_type": "code",
   "execution_count": 12,
   "id": "68450374",
   "metadata": {},
   "outputs": [
    {
     "ename": "TypeError",
     "evalue": "test1() takes 5 positional arguments but 6 were given",
     "output_type": "error",
     "traceback": [
      "\u001b[1;31m---------------------------------------------------------------------------\u001b[0m",
      "\u001b[1;31mTypeError\u001b[0m                                 Traceback (most recent call last)",
      "\u001b[1;32m~\\AppData\\Local\\Temp/ipykernel_4000/3141114246.py\u001b[0m in \u001b[0;36m<module>\u001b[1;34m\u001b[0m\n\u001b[1;32m----> 1\u001b[1;33m \u001b[0mtest1\u001b[0m\u001b[1;33m(\u001b[0m\u001b[1;36m3\u001b[0m\u001b[1;33m,\u001b[0m\u001b[1;36m4\u001b[0m\u001b[1;33m,\u001b[0m\u001b[1;36m5\u001b[0m\u001b[1;33m,\u001b[0m\u001b[1;36m6\u001b[0m\u001b[1;33m,\u001b[0m\u001b[1;36m8\u001b[0m\u001b[1;33m,\u001b[0m\u001b[1;36m9\u001b[0m\u001b[1;33m)\u001b[0m\u001b[1;33m\u001b[0m\u001b[1;33m\u001b[0m\u001b[0m\n\u001b[0m",
      "\u001b[1;31mTypeError\u001b[0m: test1() takes 5 positional arguments but 6 were given"
     ]
    }
   ],
   "source": [
    "test1(3,4,5,6,8,9)"
   ]
  },
  {
   "cell_type": "code",
   "execution_count": 13,
   "id": "44a03d6e",
   "metadata": {},
   "outputs": [],
   "source": [
    "def test2(*a):\n",
    "    return a"
   ]
  },
  {
   "cell_type": "code",
   "execution_count": 15,
   "id": "450668ce",
   "metadata": {},
   "outputs": [
    {
     "data": {
      "text/plain": [
       "(34, 56)"
      ]
     },
     "execution_count": 15,
     "metadata": {},
     "output_type": "execute_result"
    }
   ],
   "source": [
    "test2(34,56)"
   ]
  },
  {
   "cell_type": "code",
   "execution_count": 16,
   "id": "c5223d10",
   "metadata": {},
   "outputs": [
    {
     "data": {
      "text/plain": [
       "(2, 3, 4, 5, 6)"
      ]
     },
     "execution_count": 16,
     "metadata": {},
     "output_type": "execute_result"
    }
   ],
   "source": [
    "test2(2,3,4,5,6)"
   ]
  },
  {
   "cell_type": "code",
   "execution_count": 17,
   "id": "682033b0",
   "metadata": {},
   "outputs": [],
   "source": [
    "def test3(*a):\n",
    "    l = []\n",
    "    for i in a:\n",
    "        l.append(i)\n",
    "    return l"
   ]
  },
  {
   "cell_type": "code",
   "execution_count": 18,
   "id": "cb350cf3",
   "metadata": {},
   "outputs": [
    {
     "data": {
      "text/plain": [
       "[2, 3, 4, 5, 56, 7, 8, 4, 78]"
      ]
     },
     "execution_count": 18,
     "metadata": {},
     "output_type": "execute_result"
    }
   ],
   "source": [
    "test3(2,3,4,5,56,7,8,4,78)"
   ]
  },
  {
   "cell_type": "code",
   "execution_count": 19,
   "id": "4917104e",
   "metadata": {},
   "outputs": [],
   "source": [
    "def test4(a,b,c,d, *n):\n",
    "    return a, b, c, d, n"
   ]
  },
  {
   "cell_type": "code",
   "execution_count": 20,
   "id": "e6d8508e",
   "metadata": {},
   "outputs": [
    {
     "data": {
      "text/plain": [
       "(3, 4, 5, 6, (78, 9, 2, 3, 4, 5, 56))"
      ]
     },
     "execution_count": 20,
     "metadata": {},
     "output_type": "execute_result"
    }
   ],
   "source": [
    "test4(3,4,5,6,78,9,2,3,4,5,56)"
   ]
  },
  {
   "cell_type": "code",
   "execution_count": 24,
   "id": "ce3a320b",
   "metadata": {},
   "outputs": [],
   "source": [
    "def test5(*n, a,b,c,d,):\n",
    "    return n, a, b, c, d,"
   ]
  },
  {
   "cell_type": "code",
   "execution_count": 26,
   "id": "0f077e85",
   "metadata": {},
   "outputs": [
    {
     "ename": "TypeError",
     "evalue": "test5() missing 4 required keyword-only arguments: 'a', 'b', 'c', and 'd'",
     "output_type": "error",
     "traceback": [
      "\u001b[1;31m---------------------------------------------------------------------------\u001b[0m",
      "\u001b[1;31mTypeError\u001b[0m                                 Traceback (most recent call last)",
      "\u001b[1;32m~\\AppData\\Local\\Temp/ipykernel_4000/476101389.py\u001b[0m in \u001b[0;36m<module>\u001b[1;34m\u001b[0m\n\u001b[1;32m----> 1\u001b[1;33m \u001b[0mtest5\u001b[0m\u001b[1;33m(\u001b[0m\u001b[1;36m1\u001b[0m\u001b[1;33m,\u001b[0m\u001b[1;36m3\u001b[0m\u001b[1;33m,\u001b[0m\u001b[1;36m4\u001b[0m\u001b[1;33m,\u001b[0m\u001b[1;36m4\u001b[0m\u001b[1;33m,\u001b[0m\u001b[1;36m4\u001b[0m\u001b[1;33m,\u001b[0m\u001b[1;36m45\u001b[0m\u001b[1;33m,\u001b[0m\u001b[1;36m5\u001b[0m\u001b[1;33m,\u001b[0m\u001b[1;36m6\u001b[0m\u001b[1;33m,\u001b[0m\u001b[1;36m7\u001b[0m\u001b[1;33m,\u001b[0m\u001b[1;36m9\u001b[0m\u001b[1;33m,\u001b[0m\u001b[1;36m89\u001b[0m\u001b[1;33m,\u001b[0m\u001b[1;36m9\u001b[0m\u001b[1;33m,\u001b[0m\u001b[1;36m9\u001b[0m\u001b[1;33m,\u001b[0m\u001b[1;36m8\u001b[0m\u001b[1;33m)\u001b[0m\u001b[1;33m\u001b[0m\u001b[1;33m\u001b[0m\u001b[0m\n\u001b[0m",
      "\u001b[1;31mTypeError\u001b[0m: test5() missing 4 required keyword-only arguments: 'a', 'b', 'c', and 'd'"
     ]
    }
   ],
   "source": [
    "test5(1,3,4,4,4,45,5,6,7,9,89,9,9,8)"
   ]
  },
  {
   "cell_type": "code",
   "execution_count": 25,
   "id": "bf8bc4c4",
   "metadata": {},
   "outputs": [
    {
     "data": {
      "text/plain": [
       "((1, 3, 4, 4, 4, 45, 5, 6, 7, 9), 89, 9, 9, 8)"
      ]
     },
     "execution_count": 25,
     "metadata": {},
     "output_type": "execute_result"
    }
   ],
   "source": [
    "test5(1,3,4,4,4,45,5,6,7,9,a= 89,b= 9,c = 9,d= 8)"
   ]
  },
  {
   "cell_type": "code",
   "execution_count": 27,
   "id": "91cf1292",
   "metadata": {},
   "outputs": [],
   "source": [
    "def test6(**keyword):\n",
    "    return keyword"
   ]
  },
  {
   "cell_type": "code",
   "execution_count": 28,
   "id": "49368ebd",
   "metadata": {},
   "outputs": [
    {
     "data": {
      "text/plain": [
       "{'b': 4, 'c': 5, 'd': 6, 'e': 9}"
      ]
     },
     "execution_count": 28,
     "metadata": {},
     "output_type": "execute_result"
    }
   ],
   "source": [
    "test6(b = 4, c = 5, d = 6, e = 9)"
   ]
  },
  {
   "cell_type": "code",
   "execution_count": 29,
   "id": "207f48db",
   "metadata": {},
   "outputs": [],
   "source": [
    "def test7(*m, **s):\n",
    "          return m, s"
   ]
  },
  {
   "cell_type": "code",
   "execution_count": 30,
   "id": "83ae8b4e",
   "metadata": {},
   "outputs": [
    {
     "data": {
      "text/plain": [
       "((345, 45, 56, 6, 67), {'b': 4, 'c': 7, 'd': 89})"
      ]
     },
     "execution_count": 30,
     "metadata": {},
     "output_type": "execute_result"
    }
   ],
   "source": [
    "test7(345,45,56,6,67, b = 4, c= 7, d =89)"
   ]
  },
  {
   "cell_type": "code",
   "execution_count": 31,
   "id": "c98a98ca",
   "metadata": {},
   "outputs": [],
   "source": [
    "def test8(*m):\n",
    "    n = 0\n",
    "    for i in m:\n",
    "        if type(i) == int:\n",
    "            n = n+i\n",
    "    return n"
   ]
  },
  {
   "cell_type": "code",
   "execution_count": 32,
   "id": "79295472",
   "metadata": {},
   "outputs": [
    {
     "data": {
      "text/plain": [
       "33"
      ]
     },
     "execution_count": 32,
     "metadata": {},
     "output_type": "execute_result"
    }
   ],
   "source": [
    "test8(2,3,4,5,6,6,7)"
   ]
  },
  {
   "cell_type": "code",
   "execution_count": 35,
   "id": "a0454e4a",
   "metadata": {},
   "outputs": [],
   "source": [
    "def test9(*m):\n",
    "    n = 1\n",
    "    for i in m:\n",
    "        if type(i) == int:\n",
    "            n = n*i\n",
    "    return n"
   ]
  },
  {
   "cell_type": "code",
   "execution_count": 36,
   "id": "22a77a68",
   "metadata": {},
   "outputs": [
    {
     "data": {
      "text/plain": [
       "4032"
      ]
     },
     "execution_count": 36,
     "metadata": {},
     "output_type": "execute_result"
    }
   ],
   "source": [
    "test9(3,4,6,7,8)"
   ]
  },
  {
   "cell_type": "code",
   "execution_count": 38,
   "id": "b3e9d9b7",
   "metadata": {},
   "outputs": [],
   "source": [
    "n = lambda a, b : a + b"
   ]
  },
  {
   "cell_type": "code",
   "execution_count": 39,
   "id": "b7f567ff",
   "metadata": {},
   "outputs": [
    {
     "data": {
      "text/plain": [
       "9"
      ]
     },
     "execution_count": 39,
     "metadata": {},
     "output_type": "execute_result"
    }
   ],
   "source": [
    "n(4,5)"
   ]
  },
  {
   "cell_type": "code",
   "execution_count": 42,
   "id": "6e573b90",
   "metadata": {},
   "outputs": [],
   "source": [
    "b = lambda *a: a"
   ]
  },
  {
   "cell_type": "code",
   "execution_count": 43,
   "id": "1a35752d",
   "metadata": {},
   "outputs": [
    {
     "data": {
      "text/plain": [
       "(2, 4, 5, 6, 7, 7, 7, 8)"
      ]
     },
     "execution_count": 43,
     "metadata": {},
     "output_type": "execute_result"
    }
   ],
   "source": [
    "b(2,4,5,6,7,7,7,8)"
   ]
  },
  {
   "cell_type": "code",
   "execution_count": 45,
   "id": "d403a452",
   "metadata": {},
   "outputs": [],
   "source": [
    "t = (3,4,5,5,6,67,7,7)\n",
    "\n",
    "l =[]\n",
    "for i in t:\n",
    "    l.append(i)"
   ]
  },
  {
   "cell_type": "code",
   "execution_count": 46,
   "id": "dd83efc9",
   "metadata": {},
   "outputs": [
    {
     "data": {
      "text/plain": [
       "[3, 4, 5, 5, 6, 67, 7, 7]"
      ]
     },
     "execution_count": 46,
     "metadata": {},
     "output_type": "execute_result"
    }
   ],
   "source": [
    "l"
   ]
  },
  {
   "cell_type": "code",
   "execution_count": 50,
   "id": "4f6422b6",
   "metadata": {},
   "outputs": [],
   "source": [
    "j = [i for i in t]"
   ]
  },
  {
   "cell_type": "code",
   "execution_count": 51,
   "id": "88e75b25",
   "metadata": {},
   "outputs": [
    {
     "data": {
      "text/plain": [
       "[3, 4, 5, 5, 6, 67, 7, 7]"
      ]
     },
     "execution_count": 51,
     "metadata": {},
     "output_type": "execute_result"
    }
   ],
   "source": [
    "j"
   ]
  },
  {
   "cell_type": "code",
   "execution_count": 48,
   "id": "b1c22daa",
   "metadata": {},
   "outputs": [
    {
     "data": {
      "text/plain": [
       "{3, 4, 5, 6, 7, 67}"
      ]
     },
     "execution_count": 48,
     "metadata": {},
     "output_type": "execute_result"
    }
   ],
   "source": [
    "{i for i in t}"
   ]
  },
  {
   "cell_type": "code",
   "execution_count": 52,
   "id": "7fd61243",
   "metadata": {},
   "outputs": [],
   "source": [
    "s = 'pawan'"
   ]
  },
  {
   "cell_type": "code",
   "execution_count": 53,
   "id": "792af470",
   "metadata": {},
   "outputs": [
    {
     "data": {
      "text/plain": [
       "['p', 'a', 'w', 'a', 'n']"
      ]
     },
     "execution_count": 53,
     "metadata": {},
     "output_type": "execute_result"
    }
   ],
   "source": [
    "[i for i in s]"
   ]
  },
  {
   "cell_type": "code",
   "execution_count": 54,
   "id": "3d6671fe",
   "metadata": {},
   "outputs": [
    {
     "data": {
      "text/plain": [
       "[0, 1, 2, 3, 4, 5, 6, 7, 8, 9, 10]"
      ]
     },
     "execution_count": 54,
     "metadata": {},
     "output_type": "execute_result"
    }
   ],
   "source": [
    "[i for i in range(11)]"
   ]
  },
  {
   "cell_type": "code",
   "execution_count": 55,
   "id": "fdd949f7",
   "metadata": {},
   "outputs": [
    {
     "data": {
      "text/plain": [
       "[0, 1, 4, 9, 16, 25, 36, 49, 64, 81, 100]"
      ]
     },
     "execution_count": 55,
     "metadata": {},
     "output_type": "execute_result"
    }
   ],
   "source": [
    "[i*i for i in range(11)]"
   ]
  },
  {
   "cell_type": "code",
   "execution_count": 57,
   "id": "c403fb57",
   "metadata": {},
   "outputs": [
    {
     "data": {
      "text/plain": [
       "{0, 1, 4, 9, 16, 25, 36, 49, 64, 81, 100}"
      ]
     },
     "execution_count": 57,
     "metadata": {},
     "output_type": "execute_result"
    }
   ],
   "source": [
    "{i*i for i in range(11)}"
   ]
  },
  {
   "cell_type": "code",
   "execution_count": 58,
   "id": "042aaf2f",
   "metadata": {},
   "outputs": [],
   "source": [
    "l = lambda *x : [i for i in x]"
   ]
  },
  {
   "cell_type": "code",
   "execution_count": 59,
   "id": "879d8f1b",
   "metadata": {},
   "outputs": [
    {
     "data": {
      "text/plain": [
       "[3, 4, 5, 6, 7, 8]"
      ]
     },
     "execution_count": 59,
     "metadata": {},
     "output_type": "execute_result"
    }
   ],
   "source": [
    "l(3,4,5,6,7,8)"
   ]
  },
  {
   "cell_type": "code",
   "execution_count": 61,
   "id": "9ffbf331",
   "metadata": {},
   "outputs": [],
   "source": [
    "l1 = lambda *x : [i*i for i in x]"
   ]
  },
  {
   "cell_type": "code",
   "execution_count": 62,
   "id": "12477acf",
   "metadata": {},
   "outputs": [
    {
     "data": {
      "text/plain": [
       "[4, 9, 16, 25, 36]"
      ]
     },
     "execution_count": 62,
     "metadata": {},
     "output_type": "execute_result"
    }
   ],
   "source": [
    "l1(2,3,4,5,6)"
   ]
  },
  {
   "cell_type": "code",
   "execution_count": 63,
   "id": "c6054c1c",
   "metadata": {},
   "outputs": [
    {
     "ename": "NameError",
     "evalue": "name 'test10' is not defined",
     "output_type": "error",
     "traceback": [
      "\u001b[1;31m---------------------------------------------------------------------------\u001b[0m",
      "\u001b[1;31mNameError\u001b[0m                                 Traceback (most recent call last)",
      "\u001b[1;32m~\\AppData\\Local\\Temp/ipykernel_4000/769319915.py\u001b[0m in \u001b[0;36m<module>\u001b[1;34m\u001b[0m\n\u001b[1;32m----> 1\u001b[1;33m \u001b[0mtest10\u001b[0m\u001b[1;33m(\u001b[0m\u001b[0ma\u001b[0m \u001b[1;33m=\u001b[0m \u001b[1;36m7\u001b[0m\u001b[1;33m,\u001b[0m \u001b[0mb\u001b[0m \u001b[1;33m=\u001b[0m \u001b[1;34m'pawan'\u001b[0m\u001b[1;33m,\u001b[0m \u001b[0mc\u001b[0m \u001b[1;33m=\u001b[0m \u001b[1;36m345\u001b[0m\u001b[1;33m,\u001b[0m \u001b[0ml\u001b[0m \u001b[1;33m=\u001b[0m \u001b[1;33m[\u001b[0m\u001b[1;36m3\u001b[0m\u001b[1;33m,\u001b[0m\u001b[1;36m4\u001b[0m\u001b[1;33m,\u001b[0m\u001b[1;36m5\u001b[0m\u001b[1;33m,\u001b[0m \u001b[1;34m'pawan'\u001b[0m\u001b[1;33m]\u001b[0m\u001b[1;33m)\u001b[0m\u001b[1;33m\u001b[0m\u001b[1;33m\u001b[0m\u001b[0m\n\u001b[0m",
      "\u001b[1;31mNameError\u001b[0m: name 'test10' is not defined"
     ]
    }
   ],
   "source": []
  },
  {
   "cell_type": "code",
   "execution_count": 64,
   "id": "98af037d",
   "metadata": {},
   "outputs": [],
   "source": [
    "def test10(**keyword):\n",
    "    count = 0\n",
    "    for v in keyword.values():\n",
    "        if type(v) == str or type(v) == list:\n",
    "            count += 1\n",
    "    return count"
   ]
  },
  {
   "cell_type": "code",
   "execution_count": 66,
   "id": "11b9565e",
   "metadata": {},
   "outputs": [
    {
     "data": {
      "text/plain": [
       "3"
      ]
     },
     "execution_count": 66,
     "metadata": {},
     "output_type": "execute_result"
    }
   ],
   "source": [
    "test10(a = 7, b = 'pawan', c = 345, d = 'pawan', l = [3,4,5, 'pawan'])"
   ]
  },
  {
   "cell_type": "code",
   "execution_count": 71,
   "id": "c8b65c6a",
   "metadata": {},
   "outputs": [],
   "source": [
    "def test11(**kwargs):\n",
    "    return list(kwargs.values())"
   ]
  },
  {
   "cell_type": "code",
   "execution_count": 72,
   "id": "7bcc4ca0",
   "metadata": {},
   "outputs": [
    {
     "data": {
      "text/plain": [
       "[7, 'pawan', 345, 'pawan', [3, 4, 5, 'pawan']]"
      ]
     },
     "execution_count": 72,
     "metadata": {},
     "output_type": "execute_result"
    }
   ],
   "source": [
    "test11(a = 7, b = 'pawan', c = 345, d = 'pawan', l = [3,4,5, 'pawan'])"
   ]
  },
  {
   "cell_type": "code",
   "execution_count": 73,
   "id": "49fe8120",
   "metadata": {},
   "outputs": [],
   "source": [
    "# 1. try to print a prime number in between  1 to 1000\n",
    "# 2. try to write a function which is equivalent to print function in python\n",
    "# 3. try to write a function which is replica of list append, extend and pop function\n",
    "# 4. try to write a lambda function which can return a concatination of all the string that we will pass\n",
    "# 5. try to write a lambda function which can return list of square of all the data between 1 - 100\n",
    "# 6. try to write a a 10 diffrent example of lambda function with a choice of your taks\n",
    "# 7. try to write a function which can perform a read operation from .txt files"
   ]
  },
  {
   "cell_type": "code",
   "execution_count": null,
   "id": "7822e7bb",
   "metadata": {},
   "outputs": [],
   "source": []
  }
 ],
 "metadata": {
  "kernelspec": {
   "display_name": "Python 3 (ipykernel)",
   "language": "python",
   "name": "python3"
  },
  "language_info": {
   "codemirror_mode": {
    "name": "ipython",
    "version": 3
   },
   "file_extension": ".py",
   "mimetype": "text/x-python",
   "name": "python",
   "nbconvert_exporter": "python",
   "pygments_lexer": "ipython3",
   "version": "3.9.7"
  }
 },
 "nbformat": 4,
 "nbformat_minor": 5
}

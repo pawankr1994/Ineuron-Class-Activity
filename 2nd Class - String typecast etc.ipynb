{
 "cells": [
  {
   "cell_type": "code",
   "execution_count": 1,
   "id": "616764df",
   "metadata": {},
   "outputs": [],
   "source": [
    "s = \"ineuron\""
   ]
  },
  {
   "cell_type": "code",
   "execution_count": 4,
   "id": "02bfa071",
   "metadata": {},
   "outputs": [
    {
     "data": {
      "text/plain": [
       "str"
      ]
     },
     "execution_count": 4,
     "metadata": {},
     "output_type": "execute_result"
    }
   ],
   "source": [
    "type(s)"
   ]
  },
  {
   "cell_type": "code",
   "execution_count": 5,
   "id": "d41ba607",
   "metadata": {},
   "outputs": [
    {
     "data": {
      "text/plain": [
       "'i'"
      ]
     },
     "execution_count": 5,
     "metadata": {},
     "output_type": "execute_result"
    }
   ],
   "source": [
    "s[0]"
   ]
  },
  {
   "cell_type": "code",
   "execution_count": 6,
   "id": "e4a39e6a",
   "metadata": {},
   "outputs": [
    {
     "data": {
      "text/plain": [
       "'o'"
      ]
     },
     "execution_count": 6,
     "metadata": {},
     "output_type": "execute_result"
    }
   ],
   "source": [
    "s[-2]"
   ]
  },
  {
   "cell_type": "code",
   "execution_count": 7,
   "id": "599b6888",
   "metadata": {},
   "outputs": [
    {
     "data": {
      "text/plain": [
       "'n'"
      ]
     },
     "execution_count": 7,
     "metadata": {},
     "output_type": "execute_result"
    }
   ],
   "source": [
    "s[-1]"
   ]
  },
  {
   "cell_type": "code",
   "execution_count": 8,
   "id": "0c3f22eb",
   "metadata": {},
   "outputs": [],
   "source": [
    "s1 = 'pawan'"
   ]
  },
  {
   "cell_type": "code",
   "execution_count": 9,
   "id": "e0034953",
   "metadata": {},
   "outputs": [
    {
     "data": {
      "text/plain": [
       "'w'"
      ]
     },
     "execution_count": 9,
     "metadata": {},
     "output_type": "execute_result"
    }
   ],
   "source": [
    "s1[2]"
   ]
  },
  {
   "cell_type": "code",
   "execution_count": 10,
   "id": "382ce968",
   "metadata": {},
   "outputs": [
    {
     "data": {
      "text/plain": [
       "'n'"
      ]
     },
     "execution_count": 10,
     "metadata": {},
     "output_type": "execute_result"
    }
   ],
   "source": [
    "s1[-1]"
   ]
  },
  {
   "cell_type": "code",
   "execution_count": 12,
   "id": "db08bdf0",
   "metadata": {},
   "outputs": [],
   "source": [
    "s2 = 'this is my first programming class\\'s'"
   ]
  },
  {
   "cell_type": "code",
   "execution_count": 13,
   "id": "827a9695",
   "metadata": {},
   "outputs": [
    {
     "data": {
      "text/plain": [
       "\"this is my first programming class's\""
      ]
     },
     "execution_count": 13,
     "metadata": {},
     "output_type": "execute_result"
    }
   ],
   "source": [
    "s2"
   ]
  },
  {
   "cell_type": "code",
   "execution_count": 14,
   "id": "94c603a2",
   "metadata": {},
   "outputs": [
    {
     "data": {
      "text/plain": [
       "'s'"
      ]
     },
     "execution_count": 14,
     "metadata": {},
     "output_type": "execute_result"
    }
   ],
   "source": [
    "s2[3]"
   ]
  },
  {
   "cell_type": "code",
   "execution_count": 17,
   "id": "87134305",
   "metadata": {},
   "outputs": [
    {
     "data": {
      "text/plain": [
       "'his '"
      ]
     },
     "execution_count": 17,
     "metadata": {},
     "output_type": "execute_result"
    }
   ],
   "source": [
    "s2[1:5]"
   ]
  },
  {
   "cell_type": "code",
   "execution_count": 18,
   "id": "2f686fb4",
   "metadata": {},
   "outputs": [
    {
     "data": {
      "text/plain": [
       "'this '"
      ]
     },
     "execution_count": 18,
     "metadata": {},
     "output_type": "execute_result"
    }
   ],
   "source": [
    "s2[:5]"
   ]
  },
  {
   "cell_type": "code",
   "execution_count": 20,
   "id": "e7f8cf0d",
   "metadata": {},
   "outputs": [
    {
     "data": {
      "text/plain": [
       "'this'"
      ]
     },
     "execution_count": 20,
     "metadata": {},
     "output_type": "execute_result"
    }
   ],
   "source": [
    "s2[:4]"
   ]
  },
  {
   "cell_type": "code",
   "execution_count": 21,
   "id": "aa789734",
   "metadata": {},
   "outputs": [
    {
     "data": {
      "text/plain": [
       "'s my first programming c'"
      ]
     },
     "execution_count": 21,
     "metadata": {},
     "output_type": "execute_result"
    }
   ],
   "source": [
    "s2[6:30]"
   ]
  },
  {
   "cell_type": "code",
   "execution_count": 22,
   "id": "3429b5f4",
   "metadata": {},
   "outputs": [
    {
     "data": {
      "text/plain": [
       "'sm is rgamn '"
      ]
     },
     "execution_count": 22,
     "metadata": {},
     "output_type": "execute_result"
    }
   ],
   "source": [
    "s2[6:30:2]"
   ]
  },
  {
   "cell_type": "code",
   "execution_count": 23,
   "id": "b1e3604d",
   "metadata": {},
   "outputs": [
    {
     "data": {
      "text/plain": [
       "'ti sm is rgamn '"
      ]
     },
     "execution_count": 23,
     "metadata": {},
     "output_type": "execute_result"
    }
   ],
   "source": [
    "s2[:30:2]"
   ]
  },
  {
   "cell_type": "code",
   "execution_count": 24,
   "id": "46d3b60d",
   "metadata": {},
   "outputs": [],
   "source": [
    "s = 'pawan kumar'"
   ]
  },
  {
   "cell_type": "code",
   "execution_count": 25,
   "id": "db8b9c39",
   "metadata": {},
   "outputs": [
    {
     "data": {
      "text/plain": [
       "'pwnkm'"
      ]
     },
     "execution_count": 25,
     "metadata": {},
     "output_type": "execute_result"
    }
   ],
   "source": [
    "s[:9:2]"
   ]
  },
  {
   "cell_type": "code",
   "execution_count": 26,
   "id": "84da5f64",
   "metadata": {},
   "outputs": [
    {
     "data": {
      "text/plain": [
       "'pak'"
      ]
     },
     "execution_count": 26,
     "metadata": {},
     "output_type": "execute_result"
    }
   ],
   "source": [
    "s[:9:3]"
   ]
  },
  {
   "cell_type": "code",
   "execution_count": 28,
   "id": "4cca4dc9",
   "metadata": {},
   "outputs": [
    {
     "data": {
      "text/plain": [
       "''"
      ]
     },
     "execution_count": 28,
     "metadata": {},
     "output_type": "execute_result"
    }
   ],
   "source": [
    "s[0:8:-1]"
   ]
  },
  {
   "cell_type": "code",
   "execution_count": 29,
   "id": "d3cf1e55",
   "metadata": {},
   "outputs": [
    {
     "data": {
      "text/plain": [
       "''"
      ]
     },
     "execution_count": 29,
     "metadata": {},
     "output_type": "execute_result"
    }
   ],
   "source": [
    "s[2:5:-1]"
   ]
  },
  {
   "cell_type": "code",
   "execution_count": 30,
   "id": "7d5ced18",
   "metadata": {},
   "outputs": [
    {
     "data": {
      "text/plain": [
       "'muk nawa'"
      ]
     },
     "execution_count": 30,
     "metadata": {},
     "output_type": "execute_result"
    }
   ],
   "source": [
    "s[8:0:-1]"
   ]
  },
  {
   "cell_type": "code",
   "execution_count": 32,
   "id": "2526c93e",
   "metadata": {},
   "outputs": [
    {
     "data": {
      "text/plain": [
       "'au aa'"
      ]
     },
     "execution_count": 32,
     "metadata": {},
     "output_type": "execute_result"
    }
   ],
   "source": [
    "s[9:0:-2]"
   ]
  },
  {
   "cell_type": "code",
   "execution_count": 34,
   "id": "cf553147",
   "metadata": {},
   "outputs": [
    {
     "data": {
      "text/plain": [
       "'pawan ku'"
      ]
     },
     "execution_count": 34,
     "metadata": {},
     "output_type": "execute_result"
    }
   ],
   "source": [
    "s[:-3]"
   ]
  },
  {
   "cell_type": "code",
   "execution_count": 35,
   "id": "2c98bf60",
   "metadata": {},
   "outputs": [
    {
     "data": {
      "text/plain": [
       "'ar'"
      ]
     },
     "execution_count": 35,
     "metadata": {},
     "output_type": "execute_result"
    }
   ],
   "source": [
    "s[-2:]"
   ]
  },
  {
   "cell_type": "code",
   "execution_count": 36,
   "id": "710b3d14",
   "metadata": {},
   "outputs": [
    {
     "data": {
      "text/plain": [
       "'pawan kumar'"
      ]
     },
     "execution_count": 36,
     "metadata": {},
     "output_type": "execute_result"
    }
   ],
   "source": [
    "s[::1]"
   ]
  },
  {
   "cell_type": "code",
   "execution_count": 37,
   "id": "638cd048",
   "metadata": {},
   "outputs": [
    {
     "data": {
      "text/plain": [
       "'pawan kumar'"
      ]
     },
     "execution_count": 37,
     "metadata": {},
     "output_type": "execute_result"
    }
   ],
   "source": [
    "s"
   ]
  },
  {
   "cell_type": "code",
   "execution_count": 38,
   "id": "1afe8925",
   "metadata": {},
   "outputs": [
    {
     "data": {
      "text/plain": [
       "'ramuk nawap'"
      ]
     },
     "execution_count": 38,
     "metadata": {},
     "output_type": "execute_result"
    }
   ],
   "source": [
    "s[::-1]"
   ]
  },
  {
   "cell_type": "code",
   "execution_count": 39,
   "id": "b857b831",
   "metadata": {},
   "outputs": [
    {
     "data": {
      "text/plain": [
       "\"s'ssalc gnimmargorp tsrif ym si siht\""
      ]
     },
     "execution_count": 39,
     "metadata": {},
     "output_type": "execute_result"
    }
   ],
   "source": [
    "s2[::-1]"
   ]
  },
  {
   "cell_type": "code",
   "execution_count": 40,
   "id": "b664a43e",
   "metadata": {},
   "outputs": [],
   "source": [
    "s3 = 'ineuron'"
   ]
  },
  {
   "cell_type": "code",
   "execution_count": 41,
   "id": "70c9fcf9",
   "metadata": {},
   "outputs": [
    {
     "data": {
      "text/plain": [
       "'norueni'"
      ]
     },
     "execution_count": 41,
     "metadata": {},
     "output_type": "execute_result"
    }
   ],
   "source": [
    "s3[::-1]"
   ]
  },
  {
   "cell_type": "code",
   "execution_count": 42,
   "id": "6a98d5f6",
   "metadata": {},
   "outputs": [
    {
     "data": {
      "text/plain": [
       "''"
      ]
     },
     "execution_count": 42,
     "metadata": {},
     "output_type": "execute_result"
    }
   ],
   "source": [
    "s3[-2:-7:1]"
   ]
  },
  {
   "cell_type": "code",
   "execution_count": 45,
   "id": "3e76ee11",
   "metadata": {},
   "outputs": [
    {
     "data": {
      "text/plain": [
       "'ineur'"
      ]
     },
     "execution_count": 45,
     "metadata": {},
     "output_type": "execute_result"
    }
   ],
   "source": [
    "s3[-7:-2:1]"
   ]
  },
  {
   "cell_type": "code",
   "execution_count": 46,
   "id": "e9dfe7e2",
   "metadata": {},
   "outputs": [
    {
     "ename": "TypeError",
     "evalue": "can only concatenate str (not \"int\") to str",
     "output_type": "error",
     "traceback": [
      "\u001b[1;31m---------------------------------------------------------------------------\u001b[0m",
      "\u001b[1;31mTypeError\u001b[0m                                 Traceback (most recent call last)",
      "\u001b[1;32m~\\AppData\\Local\\Temp/ipykernel_7204/3893389454.py\u001b[0m in \u001b[0;36m<module>\u001b[1;34m\u001b[0m\n\u001b[1;32m----> 1\u001b[1;33m \u001b[0ms\u001b[0m \u001b[1;33m+\u001b[0m \u001b[1;36m1\u001b[0m\u001b[1;33m\u001b[0m\u001b[1;33m\u001b[0m\u001b[0m\n\u001b[0m",
      "\u001b[1;31mTypeError\u001b[0m: can only concatenate str (not \"int\") to str"
     ]
    }
   ],
   "source": [
    "s + 1"
   ]
  },
  {
   "cell_type": "code",
   "execution_count": 48,
   "id": "f5359c68",
   "metadata": {},
   "outputs": [
    {
     "data": {
      "text/plain": [
       "'pawan kumar 1'"
      ]
     },
     "execution_count": 48,
     "metadata": {},
     "output_type": "execute_result"
    }
   ],
   "source": [
    "s + ' 1'"
   ]
  },
  {
   "cell_type": "code",
   "execution_count": 49,
   "id": "60eb7ece",
   "metadata": {},
   "outputs": [
    {
     "data": {
      "text/plain": [
       "'pawan kumar singh'"
      ]
     },
     "execution_count": 49,
     "metadata": {},
     "output_type": "execute_result"
    }
   ],
   "source": [
    "s + ' singh'"
   ]
  },
  {
   "cell_type": "code",
   "execution_count": 53,
   "id": "3ae3806c",
   "metadata": {},
   "outputs": [
    {
     "data": {
      "text/plain": [
       "'pawan kumar singh'"
      ]
     },
     "execution_count": 53,
     "metadata": {},
     "output_type": "execute_result"
    }
   ],
   "source": [
    "s + str(' singh')"
   ]
  },
  {
   "cell_type": "code",
   "execution_count": 54,
   "id": "0a583806",
   "metadata": {},
   "outputs": [
    {
     "data": {
      "text/plain": [
       "'pawan kumar1'"
      ]
     },
     "execution_count": 54,
     "metadata": {},
     "output_type": "execute_result"
    }
   ],
   "source": [
    "s + str(1)"
   ]
  },
  {
   "cell_type": "code",
   "execution_count": 55,
   "id": "f2cc3191",
   "metadata": {},
   "outputs": [
    {
     "data": {
      "text/plain": [
       "11"
      ]
     },
     "execution_count": 55,
     "metadata": {},
     "output_type": "execute_result"
    }
   ],
   "source": [
    "len(s)"
   ]
  },
  {
   "cell_type": "code",
   "execution_count": 57,
   "id": "33345d77",
   "metadata": {},
   "outputs": [
    {
     "data": {
      "text/plain": [
       "'pawan kumarpawan kumar'"
      ]
     },
     "execution_count": 57,
     "metadata": {},
     "output_type": "execute_result"
    }
   ],
   "source": [
    "s * 2"
   ]
  },
  {
   "cell_type": "code",
   "execution_count": 60,
   "id": "e2d57024",
   "metadata": {},
   "outputs": [
    {
     "data": {
      "text/plain": [
       "6"
      ]
     },
     "execution_count": 60,
     "metadata": {},
     "output_type": "execute_result"
    }
   ],
   "source": [
    "s2.count('s')"
   ]
  },
  {
   "cell_type": "code",
   "execution_count": 62,
   "id": "867781a2",
   "metadata": {},
   "outputs": [
    {
     "data": {
      "text/plain": [
       "['thi', ' i', ' my fir', 't programming cla', '', \"'\", '']"
      ]
     },
     "execution_count": 62,
     "metadata": {},
     "output_type": "execute_result"
    }
   ],
   "source": [
    "s2.split('s')"
   ]
  },
  {
   "cell_type": "code",
   "execution_count": 65,
   "id": "5a4fb652",
   "metadata": {},
   "outputs": [],
   "source": [
    "sw = '''This article is about the conglomerate. For the publicly traded consumer electronics subsidiary, see Samsung Electronics.\n",
    "Not to be confused with Samsun, Samson, Sanson, or Sampson.\n",
    "Samsung Group\n",
    "Samsung Logo.svg\n",
    "Logo since 2005\n",
    "Samsung headquarters.jpg\n",
    "Samsung Town in the Gangnam station area of Seoul, South Korea\n",
    "Native name\t삼성 (三星)\n",
    "Romanized name\tsamseong (samseong)\n",
    "Type\tPrivate\n",
    "Industry\tConglomerate\n",
    "Founded\t1 March 1938; 84 years ago in Daegu, Japanese Korea\n",
    "Founder\tLee Byung-chul\n",
    "Headquarters\t40th floor Samsung Electronics Building, 11, Seocho-daero 74-gil, Seocho District, Seoul, South Korea[1]\n",
    "Area served\tWorldwide\n",
    "Key people\tLee Jae-yong\n",
    "(Chairman)\n",
    "Products\tClothing, automotive, chemicals, consumer electronics, electronic components, medical equipment, semiconductors, solid state drives, DRAM, flash memory, ships, telecommunications equipment, home appliances[2]\n",
    "Services\tAdvertising, construction, entertainment, financial services, hospitality, information and communications technology, medical and health care services, retail, shipbuilding, semiconductor foundry\n",
    "Subsidiaries\tSamsung Electronics\n",
    "Samsung Electro-Mechanics\n",
    "Samsung SDI\n",
    "Samsung SDS\n",
    "Samsung Engineering\n",
    "Samsung C&T Corporation\n",
    "Samsung Heavy Industries\n",
    "Samsung Life Insurance\n",
    "Samsung Fire & Marine Insurance\n",
    "Cheil Worldwide\n",
    "Samsung Biologics\n",
    "Website\tSamsung.com\n",
    "Samsung\n",
    "Hangul\t삼성\n",
    "Hanja\t三星\n",
    "Revised Romanization\tSamseong\n",
    "McCune–Reischauer\tSamsŏng\n",
    "Economy of South Korea\n",
    "History\n",
    "Five-Year PlansSaemaul UndongHeavy-Chemical Industry DriveMiracle on the Han River1997 Asian financial crisis\n",
    "Business culture\n",
    "ChaebolTrade policy\n",
    "Industries\n",
    "CurrencyCommunicationsTourismTransportationFinancial servicesEnergy\n",
    "Regional\n",
    "Regions by GDP per capita\n",
    "Related topics\n",
    "Science and technologyCities\n",
    "vte\n",
    "The Samsung Group[3] (or simply Samsung, stylized as SΛMSUNG) (Korean: 삼성 [samsʌŋ]) is a South Korean multinational manufacturing conglomerate headquartered in Samsung Town, Seoul, South Korea.[1] It comprises numerous affiliated businesses,[1] most of them united under the Samsung brand, and is the largest South Korean chaebol (business conglomerate). As of 2020, Samsung has the 8th highest global brand value.[4]\n",
    "\n",
    "Samsung was founded by Lee Byung-chul in 1938 as a trading company. Over the next three decades, the group diversified into areas including food processing, textiles, insurance, securities, and retail. Samsung entered the electronics industry in the late 1960s and the construction and shipbuilding industries in the mid-1970s; these areas would drive its subsequent growth. Following Lee's death in 1987, Samsung was separated into five business groups – Samsung Group, Shinsegae Group, CJ Group and Hansol Group, and Joongang Group.\n",
    "\n",
    "Notable Samsung industrial affiliates include Samsung Electronics (the world's largest information technology company, consumer electronics maker and chipmaker measured by 2017 revenues),[5][6] Samsung Heavy Industries (the world's 2nd largest shipbuilder measured by 2010 revenues),[7] and Samsung Engineering and Samsung C&T Corporation (respectively the world's 13th and 36th largest construction companies).[8] Other notable subsidiaries include Samsung Life Insurance (the world's 14th largest life insurance company),[9] Samsung Everland (operator of Everland Resort, the oldest theme park in South Korea)[10] and Cheil Worldwide (the world's 15th largest advertising agency, as measured by 2012 revenues).['''"
   ]
  },
  {
   "cell_type": "code",
   "execution_count": 66,
   "id": "9d7d9cc4",
   "metadata": {},
   "outputs": [
    {
     "data": {
      "text/plain": [
       "['This',\n",
       " 'article',\n",
       " 'is',\n",
       " 'about',\n",
       " 'the',\n",
       " 'conglomerate.',\n",
       " 'For',\n",
       " 'the',\n",
       " 'publicly',\n",
       " 'traded',\n",
       " 'consumer',\n",
       " 'electronics',\n",
       " 'subsidiary,',\n",
       " 'see',\n",
       " 'Samsung',\n",
       " 'Electronics.\\nNot',\n",
       " 'to',\n",
       " 'be',\n",
       " 'confused',\n",
       " 'with',\n",
       " 'Samsun,',\n",
       " 'Samson,',\n",
       " 'Sanson,',\n",
       " 'or',\n",
       " 'Sampson.\\nSamsung',\n",
       " 'Group\\nSamsung',\n",
       " 'Logo.svg\\nLogo',\n",
       " 'since',\n",
       " '2005\\nSamsung',\n",
       " 'headquarters.jpg\\nSamsung',\n",
       " 'Town',\n",
       " 'in',\n",
       " 'the',\n",
       " 'Gangnam',\n",
       " 'station',\n",
       " 'area',\n",
       " 'of',\n",
       " 'Seoul,',\n",
       " 'South',\n",
       " 'Korea\\nNative',\n",
       " 'name\\t삼성',\n",
       " '(三星)\\nRomanized',\n",
       " 'name\\tsamseong',\n",
       " '(samseong)\\nType\\tPrivate\\nIndustry\\tConglomerate\\nFounded\\t1',\n",
       " 'March',\n",
       " '1938;',\n",
       " '84',\n",
       " 'years',\n",
       " 'ago',\n",
       " 'in',\n",
       " 'Daegu,',\n",
       " 'Japanese',\n",
       " 'Korea\\nFounder\\tLee',\n",
       " 'Byung-chul\\nHeadquarters\\t40th',\n",
       " 'floor',\n",
       " 'Samsung',\n",
       " 'Electronics',\n",
       " 'Building,',\n",
       " '11,',\n",
       " 'Seocho-daero',\n",
       " '74-gil,',\n",
       " 'Seocho',\n",
       " 'District,',\n",
       " 'Seoul,',\n",
       " 'South',\n",
       " 'Korea[1]\\nArea',\n",
       " 'served\\tWorldwide\\nKey',\n",
       " 'people\\tLee',\n",
       " 'Jae-yong\\n(Chairman)\\nProducts\\tClothing,',\n",
       " 'automotive,',\n",
       " 'chemicals,',\n",
       " 'consumer',\n",
       " 'electronics,',\n",
       " 'electronic',\n",
       " 'components,',\n",
       " 'medical',\n",
       " 'equipment,',\n",
       " 'semiconductors,',\n",
       " 'solid',\n",
       " 'state',\n",
       " 'drives,',\n",
       " 'DRAM,',\n",
       " 'flash',\n",
       " 'memory,',\n",
       " 'ships,',\n",
       " 'telecommunications',\n",
       " 'equipment,',\n",
       " 'home',\n",
       " 'appliances[2]\\nServices\\tAdvertising,',\n",
       " 'construction,',\n",
       " 'entertainment,',\n",
       " 'financial',\n",
       " 'services,',\n",
       " 'hospitality,',\n",
       " 'information',\n",
       " 'and',\n",
       " 'communications',\n",
       " 'technology,',\n",
       " 'medical',\n",
       " 'and',\n",
       " 'health',\n",
       " 'care',\n",
       " 'services,',\n",
       " 'retail,',\n",
       " 'shipbuilding,',\n",
       " 'semiconductor',\n",
       " 'foundry\\nSubsidiaries\\tSamsung',\n",
       " 'Electronics\\nSamsung',\n",
       " 'Electro-Mechanics\\nSamsung',\n",
       " 'SDI\\nSamsung',\n",
       " 'SDS\\nSamsung',\n",
       " 'Engineering\\nSamsung',\n",
       " 'C&T',\n",
       " 'Corporation\\nSamsung',\n",
       " 'Heavy',\n",
       " 'Industries\\nSamsung',\n",
       " 'Life',\n",
       " 'Insurance\\nSamsung',\n",
       " 'Fire',\n",
       " '&',\n",
       " 'Marine',\n",
       " 'Insurance\\nCheil',\n",
       " 'Worldwide\\nSamsung',\n",
       " 'Biologics\\nWebsite\\tSamsung.com\\nSamsung\\nHangul\\t삼성\\nHanja\\t三星\\nRevised',\n",
       " 'Romanization\\tSamseong\\nMcCune–Reischauer\\tSamsŏng\\nEconomy',\n",
       " 'of',\n",
       " 'South',\n",
       " 'Korea\\nHistory\\nFive-Year',\n",
       " 'PlansSaemaul',\n",
       " 'UndongHeavy-Chemical',\n",
       " 'Industry',\n",
       " 'DriveMiracle',\n",
       " 'on',\n",
       " 'the',\n",
       " 'Han',\n",
       " 'River1997',\n",
       " 'Asian',\n",
       " 'financial',\n",
       " 'crisis\\nBusiness',\n",
       " 'culture\\nChaebolTrade',\n",
       " 'policy\\nIndustries\\nCurrencyCommunicationsTourismTransportationFinancial',\n",
       " 'servicesEnergy\\nRegional\\nRegions',\n",
       " 'by',\n",
       " 'GDP',\n",
       " 'per',\n",
       " 'capita\\nRelated',\n",
       " 'topics\\nScience',\n",
       " 'and',\n",
       " 'technologyCities\\nvte\\nThe',\n",
       " 'Samsung',\n",
       " 'Group[3]',\n",
       " '(or',\n",
       " 'simply',\n",
       " 'Samsung,',\n",
       " 'stylized',\n",
       " 'as',\n",
       " 'SΛMSUNG)',\n",
       " '(Korean:',\n",
       " '삼성',\n",
       " '[samsʌŋ])',\n",
       " 'is',\n",
       " 'a',\n",
       " 'South',\n",
       " 'Korean',\n",
       " 'multinational',\n",
       " 'manufacturing',\n",
       " 'conglomerate',\n",
       " 'headquartered',\n",
       " 'in',\n",
       " 'Samsung',\n",
       " 'Town,',\n",
       " 'Seoul,',\n",
       " 'South',\n",
       " 'Korea.[1]',\n",
       " 'It',\n",
       " 'comprises',\n",
       " 'numerous',\n",
       " 'affiliated',\n",
       " 'businesses,[1]',\n",
       " 'most',\n",
       " 'of',\n",
       " 'them',\n",
       " 'united',\n",
       " 'under',\n",
       " 'the',\n",
       " 'Samsung',\n",
       " 'brand,',\n",
       " 'and',\n",
       " 'is',\n",
       " 'the',\n",
       " 'largest',\n",
       " 'South',\n",
       " 'Korean',\n",
       " 'chaebol',\n",
       " '(business',\n",
       " 'conglomerate).',\n",
       " 'As',\n",
       " 'of',\n",
       " '2020,',\n",
       " 'Samsung',\n",
       " 'has',\n",
       " 'the',\n",
       " '8th',\n",
       " 'highest',\n",
       " 'global',\n",
       " 'brand',\n",
       " 'value.[4]\\n\\nSamsung',\n",
       " 'was',\n",
       " 'founded',\n",
       " 'by',\n",
       " 'Lee',\n",
       " 'Byung-chul',\n",
       " 'in',\n",
       " '1938',\n",
       " 'as',\n",
       " 'a',\n",
       " 'trading',\n",
       " 'company.',\n",
       " 'Over',\n",
       " 'the',\n",
       " 'next',\n",
       " 'three',\n",
       " 'decades,',\n",
       " 'the',\n",
       " 'group',\n",
       " 'diversified',\n",
       " 'into',\n",
       " 'areas',\n",
       " 'including',\n",
       " 'food',\n",
       " 'processing,',\n",
       " 'textiles,',\n",
       " 'insurance,',\n",
       " 'securities,',\n",
       " 'and',\n",
       " 'retail.',\n",
       " 'Samsung',\n",
       " 'entered',\n",
       " 'the',\n",
       " 'electronics',\n",
       " 'industry',\n",
       " 'in',\n",
       " 'the',\n",
       " 'late',\n",
       " '1960s',\n",
       " 'and',\n",
       " 'the',\n",
       " 'construction',\n",
       " 'and',\n",
       " 'shipbuilding',\n",
       " 'industries',\n",
       " 'in',\n",
       " 'the',\n",
       " 'mid-1970s;',\n",
       " 'these',\n",
       " 'areas',\n",
       " 'would',\n",
       " 'drive',\n",
       " 'its',\n",
       " 'subsequent',\n",
       " 'growth.',\n",
       " 'Following',\n",
       " \"Lee's\",\n",
       " 'death',\n",
       " 'in',\n",
       " '1987,',\n",
       " 'Samsung',\n",
       " 'was',\n",
       " 'separated',\n",
       " 'into',\n",
       " 'five',\n",
       " 'business',\n",
       " 'groups',\n",
       " '–',\n",
       " 'Samsung',\n",
       " 'Group,',\n",
       " 'Shinsegae',\n",
       " 'Group,',\n",
       " 'CJ',\n",
       " 'Group',\n",
       " 'and',\n",
       " 'Hansol',\n",
       " 'Group,',\n",
       " 'and',\n",
       " 'Joongang',\n",
       " 'Group.\\n\\nNotable',\n",
       " 'Samsung',\n",
       " 'industrial',\n",
       " 'affiliates',\n",
       " 'include',\n",
       " 'Samsung',\n",
       " 'Electronics',\n",
       " '(the',\n",
       " \"world's\",\n",
       " 'largest',\n",
       " 'information',\n",
       " 'technology',\n",
       " 'company,',\n",
       " 'consumer',\n",
       " 'electronics',\n",
       " 'maker',\n",
       " 'and',\n",
       " 'chipmaker',\n",
       " 'measured',\n",
       " 'by',\n",
       " '2017',\n",
       " 'revenues),[5][6]',\n",
       " 'Samsung',\n",
       " 'Heavy',\n",
       " 'Industries',\n",
       " '(the',\n",
       " \"world's\",\n",
       " '2nd',\n",
       " 'largest',\n",
       " 'shipbuilder',\n",
       " 'measured',\n",
       " 'by',\n",
       " '2010',\n",
       " 'revenues),[7]',\n",
       " 'and',\n",
       " 'Samsung',\n",
       " 'Engineering',\n",
       " 'and',\n",
       " 'Samsung',\n",
       " 'C&T',\n",
       " 'Corporation',\n",
       " '(respectively',\n",
       " 'the',\n",
       " \"world's\",\n",
       " '13th',\n",
       " 'and',\n",
       " '36th',\n",
       " 'largest',\n",
       " 'construction',\n",
       " 'companies).[8]',\n",
       " 'Other',\n",
       " 'notable',\n",
       " 'subsidiaries',\n",
       " 'include',\n",
       " 'Samsung',\n",
       " 'Life',\n",
       " 'Insurance',\n",
       " '(the',\n",
       " \"world's\",\n",
       " '14th',\n",
       " 'largest',\n",
       " 'life',\n",
       " 'insurance',\n",
       " 'company),[9]',\n",
       " 'Samsung',\n",
       " 'Everland',\n",
       " '(operator',\n",
       " 'of',\n",
       " 'Everland',\n",
       " 'Resort,',\n",
       " 'the',\n",
       " 'oldest',\n",
       " 'theme',\n",
       " 'park',\n",
       " 'in',\n",
       " 'South',\n",
       " 'Korea)[10]',\n",
       " 'and',\n",
       " 'Cheil',\n",
       " 'Worldwide',\n",
       " '(the',\n",
       " \"world's\",\n",
       " '15th',\n",
       " 'largest',\n",
       " 'advertising',\n",
       " 'agency,',\n",
       " 'as',\n",
       " 'measured',\n",
       " 'by',\n",
       " '2012',\n",
       " 'revenues).[']"
      ]
     },
     "execution_count": 66,
     "metadata": {},
     "output_type": "execute_result"
    }
   ],
   "source": [
    "sw.split(' ')"
   ]
  },
  {
   "cell_type": "code",
   "execution_count": 67,
   "id": "d48848bf",
   "metadata": {},
   "outputs": [
    {
     "data": {
      "text/plain": [
       "\"This article is about the conglomerate. For the publicly traded consumer electronics subsidiary, see Samsung Electronics.\\nNot to be confused with Samsun, Samson, Sanson, or Sampson.\\nSamsung Group\\nSamsung Logo.svg\\nLogo since 2005\\nSamsung headquarters.jpg\\nSamsung Town in the Gangnam station area of Seoul, South Korea\\nNative name\\t삼성 (三星)\\nRomanized name\\tsamseong (samseong)\\nType\\tPrivate\\nIndustry\\tConglomerate\\nFounded\\t1 March 1938; 84 years ago in Daegu, Japanese Korea\\nFounder\\tLee Byung-chul\\nHeadquarters\\t40th floor Samsung Electronics Building, 11, Seocho-daero 74-gil, Seocho District, Seoul, South Korea[1]\\nArea served\\tWorldwide\\nKey people\\tLee Jae-yong\\n(Chairman)\\nProducts\\tClothing, automotive, chemicals, consumer electronics, electronic components, medical equipment, semiconductors, solid state drives, DRAM, flash memory, ships, telecommunications equipment, home appliances[2]\\nServices\\tAdvertising, construction, entertainment, financial services, hospitality, information and communications technology, medical and health care services, retail, shipbuilding, semiconductor foundry\\nSubsidiaries\\tSamsung Electronics\\nSamsung Electro-Mechanics\\nSamsung SDI\\nSamsung SDS\\nSamsung Engineering\\nSamsung C&T Corporation\\nSamsung Heavy Industries\\nSamsung Life Insurance\\nSamsung Fire & Marine Insurance\\nCheil Worldwide\\nSamsung Biologics\\nWebsite\\tSamsung.com\\nSamsung\\nHangul\\t삼성\\nHanja\\t三星\\nRevised Romanization\\tSamseong\\nMcCune–Reischauer\\tSamsŏng\\nEconomy of South Korea\\nHistory\\nFive-Year PlansSaemaul UndongHeavy-Chemical Industry DriveMiracle on the Han River1997 Asian financial crisis\\nBusiness culture\\nChaebolTrade policy\\nIndustries\\nCurrencyCommunicationsTourismTransportationFinancial servicesEnergy\\nRegional\\nRegions by GDP per capita\\nRelated topics\\nScience and technologyCities\\nvte\\nThe Samsung Group[3] (or simply Samsung, stylized as SΛMSUNG) (Korean: 삼성 [samsʌŋ]) is a South Korean multinational manufacturing conglomerate headquartered in Samsung Town, Seoul, South Korea.[1] It comprises numerous affiliated businesses,[1] most of them united under the Samsung brand, and is the largest South Korean chaebol (business conglomerate). As of 2020, Samsung has the 8th highest global brand value.[4]\\n\\nSamsung was founded by Lee Byung-chul in 1938 as a trading company. Over the next three decades, the group diversified into areas including food processing, textiles, insurance, securities, and retail. Samsung entered the electronics industry in the late 1960s and the construction and shipbuilding industries in the mid-1970s; these areas would drive its subsequent growth. Following Lee's death in 1987, Samsung was separated into five business groups – Samsung Group, Shinsegae Group, CJ Group and Hansol Group, and Joongang Group.\\n\\nNotable Samsung industrial affiliates include Samsung Electronics (the world's largest information technology company, consumer electronics maker and chipmaker measured by 2017 revenues),[5][6] Samsung Heavy Industries (the world's 2nd largest shipbuilder measured by 2010 revenues),[7] and Samsung Engineering and Samsung C&T Corporation (respectively the world's 13th and 36th largest construction companies).[8] Other notable subsidiaries include Samsung Life Insurance (the world's 14th largest life insurance company),[9] Samsung Everland (operator of Everland Resort, the oldest theme park in South Korea)[10] and Cheil Worldwide (the world's 15th largest advertising agency, as measured by 2012 revenues).[\""
      ]
     },
     "execution_count": 67,
     "metadata": {},
     "output_type": "execute_result"
    }
   ],
   "source": [
    "sw"
   ]
  },
  {
   "cell_type": "code",
   "execution_count": 68,
   "id": "84012ae5",
   "metadata": {},
   "outputs": [
    {
     "data": {
      "text/plain": [
       "\"THIS ARTICLE IS ABOUT THE CONGLOMERATE. FOR THE PUBLICLY TRADED CONSUMER ELECTRONICS SUBSIDIARY, SEE SAMSUNG ELECTRONICS.\\nNOT TO BE CONFUSED WITH SAMSUN, SAMSON, SANSON, OR SAMPSON.\\nSAMSUNG GROUP\\nSAMSUNG LOGO.SVG\\nLOGO SINCE 2005\\nSAMSUNG HEADQUARTERS.JPG\\nSAMSUNG TOWN IN THE GANGNAM STATION AREA OF SEOUL, SOUTH KOREA\\nNATIVE NAME\\t삼성 (三星)\\nROMANIZED NAME\\tSAMSEONG (SAMSEONG)\\nTYPE\\tPRIVATE\\nINDUSTRY\\tCONGLOMERATE\\nFOUNDED\\t1 MARCH 1938; 84 YEARS AGO IN DAEGU, JAPANESE KOREA\\nFOUNDER\\tLEE BYUNG-CHUL\\nHEADQUARTERS\\t40TH FLOOR SAMSUNG ELECTRONICS BUILDING, 11, SEOCHO-DAERO 74-GIL, SEOCHO DISTRICT, SEOUL, SOUTH KOREA[1]\\nAREA SERVED\\tWORLDWIDE\\nKEY PEOPLE\\tLEE JAE-YONG\\n(CHAIRMAN)\\nPRODUCTS\\tCLOTHING, AUTOMOTIVE, CHEMICALS, CONSUMER ELECTRONICS, ELECTRONIC COMPONENTS, MEDICAL EQUIPMENT, SEMICONDUCTORS, SOLID STATE DRIVES, DRAM, FLASH MEMORY, SHIPS, TELECOMMUNICATIONS EQUIPMENT, HOME APPLIANCES[2]\\nSERVICES\\tADVERTISING, CONSTRUCTION, ENTERTAINMENT, FINANCIAL SERVICES, HOSPITALITY, INFORMATION AND COMMUNICATIONS TECHNOLOGY, MEDICAL AND HEALTH CARE SERVICES, RETAIL, SHIPBUILDING, SEMICONDUCTOR FOUNDRY\\nSUBSIDIARIES\\tSAMSUNG ELECTRONICS\\nSAMSUNG ELECTRO-MECHANICS\\nSAMSUNG SDI\\nSAMSUNG SDS\\nSAMSUNG ENGINEERING\\nSAMSUNG C&T CORPORATION\\nSAMSUNG HEAVY INDUSTRIES\\nSAMSUNG LIFE INSURANCE\\nSAMSUNG FIRE & MARINE INSURANCE\\nCHEIL WORLDWIDE\\nSAMSUNG BIOLOGICS\\nWEBSITE\\tSAMSUNG.COM\\nSAMSUNG\\nHANGUL\\t삼성\\nHANJA\\t三星\\nREVISED ROMANIZATION\\tSAMSEONG\\nMCCUNE–REISCHAUER\\tSAMSŎNG\\nECONOMY OF SOUTH KOREA\\nHISTORY\\nFIVE-YEAR PLANSSAEMAUL UNDONGHEAVY-CHEMICAL INDUSTRY DRIVEMIRACLE ON THE HAN RIVER1997 ASIAN FINANCIAL CRISIS\\nBUSINESS CULTURE\\nCHAEBOLTRADE POLICY\\nINDUSTRIES\\nCURRENCYCOMMUNICATIONSTOURISMTRANSPORTATIONFINANCIAL SERVICESENERGY\\nREGIONAL\\nREGIONS BY GDP PER CAPITA\\nRELATED TOPICS\\nSCIENCE AND TECHNOLOGYCITIES\\nVTE\\nTHE SAMSUNG GROUP[3] (OR SIMPLY SAMSUNG, STYLIZED AS SΛMSUNG) (KOREAN: 삼성 [SAMSɅŊ]) IS A SOUTH KOREAN MULTINATIONAL MANUFACTURING CONGLOMERATE HEADQUARTERED IN SAMSUNG TOWN, SEOUL, SOUTH KOREA.[1] IT COMPRISES NUMEROUS AFFILIATED BUSINESSES,[1] MOST OF THEM UNITED UNDER THE SAMSUNG BRAND, AND IS THE LARGEST SOUTH KOREAN CHAEBOL (BUSINESS CONGLOMERATE). AS OF 2020, SAMSUNG HAS THE 8TH HIGHEST GLOBAL BRAND VALUE.[4]\\n\\nSAMSUNG WAS FOUNDED BY LEE BYUNG-CHUL IN 1938 AS A TRADING COMPANY. OVER THE NEXT THREE DECADES, THE GROUP DIVERSIFIED INTO AREAS INCLUDING FOOD PROCESSING, TEXTILES, INSURANCE, SECURITIES, AND RETAIL. SAMSUNG ENTERED THE ELECTRONICS INDUSTRY IN THE LATE 1960S AND THE CONSTRUCTION AND SHIPBUILDING INDUSTRIES IN THE MID-1970S; THESE AREAS WOULD DRIVE ITS SUBSEQUENT GROWTH. FOLLOWING LEE'S DEATH IN 1987, SAMSUNG WAS SEPARATED INTO FIVE BUSINESS GROUPS – SAMSUNG GROUP, SHINSEGAE GROUP, CJ GROUP AND HANSOL GROUP, AND JOONGANG GROUP.\\n\\nNOTABLE SAMSUNG INDUSTRIAL AFFILIATES INCLUDE SAMSUNG ELECTRONICS (THE WORLD'S LARGEST INFORMATION TECHNOLOGY COMPANY, CONSUMER ELECTRONICS MAKER AND CHIPMAKER MEASURED BY 2017 REVENUES),[5][6] SAMSUNG HEAVY INDUSTRIES (THE WORLD'S 2ND LARGEST SHIPBUILDER MEASURED BY 2010 REVENUES),[7] AND SAMSUNG ENGINEERING AND SAMSUNG C&T CORPORATION (RESPECTIVELY THE WORLD'S 13TH AND 36TH LARGEST CONSTRUCTION COMPANIES).[8] OTHER NOTABLE SUBSIDIARIES INCLUDE SAMSUNG LIFE INSURANCE (THE WORLD'S 14TH LARGEST LIFE INSURANCE COMPANY),[9] SAMSUNG EVERLAND (OPERATOR OF EVERLAND RESORT, THE OLDEST THEME PARK IN SOUTH KOREA)[10] AND CHEIL WORLDWIDE (THE WORLD'S 15TH LARGEST ADVERTISING AGENCY, AS MEASURED BY 2012 REVENUES).[\""
      ]
     },
     "execution_count": 68,
     "metadata": {},
     "output_type": "execute_result"
    }
   ],
   "source": [
    "sw.upper()"
   ]
  },
  {
   "cell_type": "code",
   "execution_count": 79,
   "id": "2b6e4d02",
   "metadata": {},
   "outputs": [],
   "source": [
    "sw = sw.upper()"
   ]
  },
  {
   "cell_type": "code",
   "execution_count": 80,
   "id": "253d4b72",
   "metadata": {},
   "outputs": [
    {
     "data": {
      "text/plain": [
       "\"THIS ARTICLE IS ABOUT THE CONGLOMERATE. FOR THE PUBLICLY TRADED CONSUMER ELECTRONICS SUBSIDIARY, SEE SAMSUNG ELECTRONICS.\\nNOT TO BE CONFUSED WITH SAMSUN, SAMSON, SANSON, OR SAMPSON.\\nSAMSUNG GROUP\\nSAMSUNG LOGO.SVG\\nLOGO SINCE 2005\\nSAMSUNG HEADQUARTERS.JPG\\nSAMSUNG TOWN IN THE GANGNAM STATION AREA OF SEOUL, SOUTH KOREA\\nNATIVE NAME\\t삼성 (三星)\\nROMANIZED NAME\\tSAMSEONG (SAMSEONG)\\nTYPE\\tPRIVATE\\nINDUSTRY\\tCONGLOMERATE\\nFOUNDED\\t1 MARCH 1938; 84 YEARS AGO IN DAEGU, JAPANESE KOREA\\nFOUNDER\\tLEE BYUNG-CHUL\\nHEADQUARTERS\\t40TH FLOOR SAMSUNG ELECTRONICS BUILDING, 11, SEOCHO-DAERO 74-GIL, SEOCHO DISTRICT, SEOUL, SOUTH KOREA[1]\\nAREA SERVED\\tWORLDWIDE\\nKEY PEOPLE\\tLEE JAE-YONG\\n(CHAIRMAN)\\nPRODUCTS\\tCLOTHING, AUTOMOTIVE, CHEMICALS, CONSUMER ELECTRONICS, ELECTRONIC COMPONENTS, MEDICAL EQUIPMENT, SEMICONDUCTORS, SOLID STATE DRIVES, DRAM, FLASH MEMORY, SHIPS, TELECOMMUNICATIONS EQUIPMENT, HOME APPLIANCES[2]\\nSERVICES\\tADVERTISING, CONSTRUCTION, ENTERTAINMENT, FINANCIAL SERVICES, HOSPITALITY, INFORMATION AND COMMUNICATIONS TECHNOLOGY, MEDICAL AND HEALTH CARE SERVICES, RETAIL, SHIPBUILDING, SEMICONDUCTOR FOUNDRY\\nSUBSIDIARIES\\tSAMSUNG ELECTRONICS\\nSAMSUNG ELECTRO-MECHANICS\\nSAMSUNG SDI\\nSAMSUNG SDS\\nSAMSUNG ENGINEERING\\nSAMSUNG C&T CORPORATION\\nSAMSUNG HEAVY INDUSTRIES\\nSAMSUNG LIFE INSURANCE\\nSAMSUNG FIRE & MARINE INSURANCE\\nCHEIL WORLDWIDE\\nSAMSUNG BIOLOGICS\\nWEBSITE\\tSAMSUNG.COM\\nSAMSUNG\\nHANGUL\\t삼성\\nHANJA\\t三星\\nREVISED ROMANIZATION\\tSAMSEONG\\nMCCUNE–REISCHAUER\\tSAMSŎNG\\nECONOMY OF SOUTH KOREA\\nHISTORY\\nFIVE-YEAR PLANSSAEMAUL UNDONGHEAVY-CHEMICAL INDUSTRY DRIVEMIRACLE ON THE HAN RIVER1997 ASIAN FINANCIAL CRISIS\\nBUSINESS CULTURE\\nCHAEBOLTRADE POLICY\\nINDUSTRIES\\nCURRENCYCOMMUNICATIONSTOURISMTRANSPORTATIONFINANCIAL SERVICESENERGY\\nREGIONAL\\nREGIONS BY GDP PER CAPITA\\nRELATED TOPICS\\nSCIENCE AND TECHNOLOGYCITIES\\nVTE\\nTHE SAMSUNG GROUP[3] (OR SIMPLY SAMSUNG, STYLIZED AS SΛMSUNG) (KOREAN: 삼성 [SAMSɅŊ]) IS A SOUTH KOREAN MULTINATIONAL MANUFACTURING CONGLOMERATE HEADQUARTERED IN SAMSUNG TOWN, SEOUL, SOUTH KOREA.[1] IT COMPRISES NUMEROUS AFFILIATED BUSINESSES,[1] MOST OF THEM UNITED UNDER THE SAMSUNG BRAND, AND IS THE LARGEST SOUTH KOREAN CHAEBOL (BUSINESS CONGLOMERATE). AS OF 2020, SAMSUNG HAS THE 8TH HIGHEST GLOBAL BRAND VALUE.[4]\\n\\nSAMSUNG WAS FOUNDED BY LEE BYUNG-CHUL IN 1938 AS A TRADING COMPANY. OVER THE NEXT THREE DECADES, THE GROUP DIVERSIFIED INTO AREAS INCLUDING FOOD PROCESSING, TEXTILES, INSURANCE, SECURITIES, AND RETAIL. SAMSUNG ENTERED THE ELECTRONICS INDUSTRY IN THE LATE 1960S AND THE CONSTRUCTION AND SHIPBUILDING INDUSTRIES IN THE MID-1970S; THESE AREAS WOULD DRIVE ITS SUBSEQUENT GROWTH. FOLLOWING LEE'S DEATH IN 1987, SAMSUNG WAS SEPARATED INTO FIVE BUSINESS GROUPS – SAMSUNG GROUP, SHINSEGAE GROUP, CJ GROUP AND HANSOL GROUP, AND JOONGANG GROUP.\\n\\nNOTABLE SAMSUNG INDUSTRIAL AFFILIATES INCLUDE SAMSUNG ELECTRONICS (THE WORLD'S LARGEST INFORMATION TECHNOLOGY COMPANY, CONSUMER ELECTRONICS MAKER AND CHIPMAKER MEASURED BY 2017 REVENUES),[5][6] SAMSUNG HEAVY INDUSTRIES (THE WORLD'S 2ND LARGEST SHIPBUILDER MEASURED BY 2010 REVENUES),[7] AND SAMSUNG ENGINEERING AND SAMSUNG C&T CORPORATION (RESPECTIVELY THE WORLD'S 13TH AND 36TH LARGEST CONSTRUCTION COMPANIES).[8] OTHER NOTABLE SUBSIDIARIES INCLUDE SAMSUNG LIFE INSURANCE (THE WORLD'S 14TH LARGEST LIFE INSURANCE COMPANY),[9] SAMSUNG EVERLAND (OPERATOR OF EVERLAND RESORT, THE OLDEST THEME PARK IN SOUTH KOREA)[10] AND CHEIL WORLDWIDE (THE WORLD'S 15TH LARGEST ADVERTISING AGENCY, AS MEASURED BY 2012 REVENUES).[\""
      ]
     },
     "execution_count": 80,
     "metadata": {},
     "output_type": "execute_result"
    }
   ],
   "source": [
    "sw"
   ]
  },
  {
   "cell_type": "code",
   "execution_count": 81,
   "id": "3adacf91",
   "metadata": {},
   "outputs": [
    {
     "data": {
      "text/plain": [
       "'Pawan Kumar'"
      ]
     },
     "execution_count": 81,
     "metadata": {},
     "output_type": "execute_result"
    }
   ],
   "source": [
    "s.title()"
   ]
  },
  {
   "cell_type": "code",
   "execution_count": 82,
   "id": "67e03b55",
   "metadata": {},
   "outputs": [
    {
     "data": {
      "text/plain": [
       "'Pawan kumar'"
      ]
     },
     "execution_count": 82,
     "metadata": {},
     "output_type": "execute_result"
    }
   ],
   "source": [
    "s.capitalize()"
   ]
  },
  {
   "cell_type": "code",
   "execution_count": 85,
   "id": "e8f61b9f",
   "metadata": {},
   "outputs": [
    {
     "data": {
      "text/plain": [
       "'PAWAN KUMAR'"
      ]
     },
     "execution_count": 85,
     "metadata": {},
     "output_type": "execute_result"
    }
   ],
   "source": [
    "s.swapcase()"
   ]
  },
  {
   "cell_type": "code",
   "execution_count": 86,
   "id": "fb9b265a",
   "metadata": {},
   "outputs": [
    {
     "data": {
      "text/plain": [
       "'p  a  w  a  n'"
      ]
     },
     "execution_count": 86,
     "metadata": {},
     "output_type": "execute_result"
    }
   ],
   "source": [
    "\"  \".join(\"pawan\")"
   ]
  },
  {
   "cell_type": "code",
   "execution_count": 87,
   "id": "e35ad514",
   "metadata": {},
   "outputs": [
    {
     "data": {
      "text/plain": [
       "'k.u.m.a.r'"
      ]
     },
     "execution_count": 87,
     "metadata": {},
     "output_type": "execute_result"
    }
   ],
   "source": [
    "\".\".join(\"kumar\")"
   ]
  },
  {
   "cell_type": "code",
   "execution_count": 91,
   "id": "4e831c14",
   "metadata": {},
   "outputs": [
    {
     "data": {
      "text/plain": [
       "'#######pawan kumar########'"
      ]
     },
     "execution_count": 91,
     "metadata": {},
     "output_type": "execute_result"
    }
   ],
   "source": [
    "s.center(26, '#')"
   ]
  },
  {
   "cell_type": "code",
   "execution_count": 92,
   "id": "ee19aaec",
   "metadata": {},
   "outputs": [
    {
     "data": {
      "text/plain": [
       "True"
      ]
     },
     "execution_count": 92,
     "metadata": {},
     "output_type": "execute_result"
    }
   ],
   "source": [
    "s.islower()"
   ]
  },
  {
   "cell_type": "code",
   "execution_count": 93,
   "id": "227df36f",
   "metadata": {},
   "outputs": [
    {
     "data": {
      "text/plain": [
       "False"
      ]
     },
     "execution_count": 93,
     "metadata": {},
     "output_type": "execute_result"
    }
   ],
   "source": [
    "s.isspace()"
   ]
  },
  {
   "cell_type": "code",
   "execution_count": 94,
   "id": "631742ea",
   "metadata": {},
   "outputs": [],
   "source": [
    "s4 = \"   \""
   ]
  },
  {
   "cell_type": "code",
   "execution_count": 95,
   "id": "486080bf",
   "metadata": {},
   "outputs": [
    {
     "data": {
      "text/plain": [
       "True"
      ]
     },
     "execution_count": 95,
     "metadata": {},
     "output_type": "execute_result"
    }
   ],
   "source": [
    "s4.isspace()"
   ]
  },
  {
   "cell_type": "code",
   "execution_count": 96,
   "id": "d3d11f86",
   "metadata": {},
   "outputs": [
    {
     "data": {
      "text/plain": [
       "False"
      ]
     },
     "execution_count": 96,
     "metadata": {},
     "output_type": "execute_result"
    }
   ],
   "source": [
    "s.isdigit()"
   ]
  },
  {
   "cell_type": "code",
   "execution_count": 99,
   "id": "8dd18153",
   "metadata": {},
   "outputs": [
    {
     "data": {
      "text/plain": [
       "False"
      ]
     },
     "execution_count": 99,
     "metadata": {},
     "output_type": "execute_result"
    }
   ],
   "source": [
    "s.isalpha()"
   ]
  },
  {
   "cell_type": "code",
   "execution_count": 98,
   "id": "23103c9f",
   "metadata": {},
   "outputs": [
    {
     "data": {
      "text/plain": [
       "False"
      ]
     },
     "execution_count": 98,
     "metadata": {},
     "output_type": "execute_result"
    }
   ],
   "source": [
    "s.isalnum()"
   ]
  },
  {
   "cell_type": "code",
   "execution_count": 101,
   "id": "f929b77d",
   "metadata": {},
   "outputs": [
    {
     "data": {
      "text/plain": [
       "True"
      ]
     },
     "execution_count": 101,
     "metadata": {},
     "output_type": "execute_result"
    }
   ],
   "source": [
    "s.startswith('p')"
   ]
  },
  {
   "cell_type": "code",
   "execution_count": 103,
   "id": "3f80ba85",
   "metadata": {},
   "outputs": [],
   "source": [
    "s8 = \"Pawan Kumar\""
   ]
  },
  {
   "cell_type": "code",
   "execution_count": 104,
   "id": "f02da45a",
   "metadata": {},
   "outputs": [
    {
     "data": {
      "text/plain": [
       "'pAWAN kUMAR'"
      ]
     },
     "execution_count": 104,
     "metadata": {},
     "output_type": "execute_result"
    }
   ],
   "source": [
    "s8.swapcase()"
   ]
  },
  {
   "cell_type": "code",
   "execution_count": 105,
   "id": "c159a602",
   "metadata": {},
   "outputs": [
    {
     "data": {
      "text/plain": [
       "True"
      ]
     },
     "execution_count": 105,
     "metadata": {},
     "output_type": "execute_result"
    }
   ],
   "source": [
    "s8.endswith('r')"
   ]
  },
  {
   "cell_type": "code",
   "execution_count": 106,
   "id": "5e70fe2f",
   "metadata": {},
   "outputs": [
    {
     "data": {
      "text/plain": [
       "True"
      ]
     },
     "execution_count": 106,
     "metadata": {},
     "output_type": "execute_result"
    }
   ],
   "source": [
    "s.isascii()"
   ]
  },
  {
   "cell_type": "code",
   "execution_count": 107,
   "id": "ee876440",
   "metadata": {},
   "outputs": [],
   "source": [
    "s = 'pawan'"
   ]
  },
  {
   "cell_type": "code",
   "execution_count": 108,
   "id": "32e117b8",
   "metadata": {},
   "outputs": [
    {
     "data": {
      "text/plain": [
       "<reversed at 0xcfea21a280>"
      ]
     },
     "execution_count": 108,
     "metadata": {},
     "output_type": "execute_result"
    }
   ],
   "source": [
    "reversed(s)"
   ]
  },
  {
   "cell_type": "code",
   "execution_count": 109,
   "id": "0d1d7492",
   "metadata": {},
   "outputs": [
    {
     "data": {
      "text/plain": [
       "'nawap'"
      ]
     },
     "execution_count": 109,
     "metadata": {},
     "output_type": "execute_result"
    }
   ],
   "source": [
    "\"\".join(reversed('pawan'))"
   ]
  },
  {
   "cell_type": "code",
   "execution_count": 110,
   "id": "dfcbc34b",
   "metadata": {},
   "outputs": [],
   "source": [
    "s = 'pawan\\tkumar\\tineuron'"
   ]
  },
  {
   "cell_type": "code",
   "execution_count": 111,
   "id": "c4012c0e",
   "metadata": {},
   "outputs": [
    {
     "data": {
      "text/plain": [
       "'pawan   kumar   ineuron'"
      ]
     },
     "execution_count": 111,
     "metadata": {},
     "output_type": "execute_result"
    }
   ],
   "source": [
    "s.expandtabs()"
   ]
  },
  {
   "cell_type": "code",
   "execution_count": null,
   "id": "29f8cbf0",
   "metadata": {},
   "outputs": [],
   "source": [
    "s = \"this is My First Python programming class and i am learNING python string and its function\""
   ]
  }
 ],
 "metadata": {
  "kernelspec": {
   "display_name": "Python 3 (ipykernel)",
   "language": "python",
   "name": "python3"
  },
  "language_info": {
   "codemirror_mode": {
    "name": "ipython",
    "version": 3
   },
   "file_extension": ".py",
   "mimetype": "text/x-python",
   "name": "python",
   "nbconvert_exporter": "python",
   "pygments_lexer": "ipython3",
   "version": "3.9.7"
  }
 },
 "nbformat": 4,
 "nbformat_minor": 5
}

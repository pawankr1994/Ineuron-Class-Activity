{
 "cells": [
  {
   "cell_type": "code",
   "execution_count": 10,
   "id": "05dc637b",
   "metadata": {},
   "outputs": [
    {
     "name": "stdout",
     "output_type": "stream",
     "text": [
      "1\n",
      "2\n",
      "3\n",
      "4\n",
      "5\n",
      "6\n",
      "7\n",
      "8\n",
      "9\n",
      "10\n"
     ]
    }
   ],
   "source": [
    "a = 1\n",
    "b = 10\n",
    "while a <= b:\n",
    "    print(a)\n",
    "    a = a +1"
   ]
  },
  {
   "cell_type": "code",
   "execution_count": 1,
   "id": "fbcea252",
   "metadata": {},
   "outputs": [
    {
     "name": "stdout",
     "output_type": "stream",
     "text": [
      "1\n",
      "3\n",
      "5\n",
      "7\n",
      "9\n",
      "print else block\n"
     ]
    }
   ],
   "source": [
    "a = 1\n",
    "b = 10\n",
    "while a <= b:\n",
    "    print(a)\n",
    "    a = a + 2\n",
    "else:\n",
    "    print('print else block')"
   ]
  },
  {
   "cell_type": "code",
   "execution_count": 2,
   "id": "558f4524",
   "metadata": {},
   "outputs": [
    {
     "name": "stdout",
     "output_type": "stream",
     "text": [
      "1\n",
      "2\n",
      "3\n",
      "4\n",
      "5\n"
     ]
    }
   ],
   "source": [
    "a = 1\n",
    "b = 10\n",
    "while a < 10:\n",
    "    print(a)\n",
    "    if a == 5:\n",
    "        break\n",
    "    a = a + 1\n",
    "else :\n",
    "    print('print this')"
   ]
  },
  {
   "cell_type": "code",
   "execution_count": null,
   "id": "28d6a62f",
   "metadata": {},
   "outputs": [],
   "source": [
    "a = 1\n",
    "b = 10\n",
    "while a < b:\n",
    "    print(a)\n",
    "    if a == 3:\n",
    "        continue\n",
    "    a = a + 1"
   ]
  },
  {
   "cell_type": "code",
   "execution_count": 3,
   "id": "8b99077c",
   "metadata": {},
   "outputs": [
    {
     "name": "stdout",
     "output_type": "stream",
     "text": [
      "2\n",
      "4\n",
      "5\n",
      "6\n",
      "7\n",
      "8\n",
      "9\n",
      "10\n"
     ]
    }
   ],
   "source": [
    "a = 1\n",
    "b = 10\n",
    "while a < b:\n",
    "    a = a + 1\n",
    "    if a == 3:\n",
    "        continue\n",
    "    print(a)"
   ]
  },
  {
   "cell_type": "code",
   "execution_count": 4,
   "id": "b94d2c97",
   "metadata": {},
   "outputs": [],
   "source": [
    "l = [1,2,3,4,65,56]"
   ]
  },
  {
   "cell_type": "code",
   "execution_count": 5,
   "id": "0e57263b",
   "metadata": {},
   "outputs": [
    {
     "name": "stdout",
     "output_type": "stream",
     "text": [
      "1\n",
      "2\n",
      "3\n",
      "4\n",
      "65\n",
      "56\n"
     ]
    }
   ],
   "source": [
    "for i in l:\n",
    "    print(i)"
   ]
  },
  {
   "cell_type": "code",
   "execution_count": 6,
   "id": "64ccdf61",
   "metadata": {},
   "outputs": [
    {
     "name": "stdout",
     "output_type": "stream",
     "text": [
      "1\n",
      "2\n",
      "3\n",
      "4\n",
      "65\n",
      "56\n"
     ]
    }
   ],
   "source": [
    "a = 0\n",
    "while a < len(l):\n",
    "    print(l[a])\n",
    "    a = a+ 1"
   ]
  },
  {
   "cell_type": "code",
   "execution_count": 6,
   "id": "4dcaf193",
   "metadata": {},
   "outputs": [
    {
     "name": "stdout",
     "output_type": "stream",
     "text": [
      "-3\n",
      "-4\n"
     ]
    }
   ],
   "source": [
    "t = (3,4,5,6,7,8,9)\n",
    "a = 0\n",
    "while a >= -len(t):\n",
    "    if t[a] == 6 or t[a] == 7:\n",
    "        print(a)\n",
    "    a = a - 1"
   ]
  },
  {
   "cell_type": "code",
   "execution_count": 7,
   "id": "8fb9be47",
   "metadata": {},
   "outputs": [
    {
     "name": "stdout",
     "output_type": "stream",
     "text": [
      "3\n",
      "4\n"
     ]
    }
   ],
   "source": [
    "t = (3,4,5,6,7,8,9)\n",
    "a = 0\n",
    "while a < len(t):\n",
    "    if t[a] == 6 or t[a] == 7:\n",
    "        print(a)\n",
    "    a = a + 1"
   ]
  },
  {
   "cell_type": "code",
   "execution_count": 12,
   "id": "96d3c608",
   "metadata": {},
   "outputs": [
    {
     "name": "stdout",
     "output_type": "stream",
     "text": [
      "-3\n",
      "-4\n"
     ]
    }
   ],
   "source": [
    "t = (3,4,5,6,7,8,9)\n",
    "a = 0\n",
    "while a < len(t):\n",
    "    if t[a] == 6 or t[a] == 7:\n",
    "        print(a)\n",
    "    if a == -len(t):\n",
    "        break\n",
    "    a = a - 1"
   ]
  },
  {
   "cell_type": "code",
   "execution_count": 13,
   "id": "ae84bf74",
   "metadata": {},
   "outputs": [
    {
     "name": "stdout",
     "output_type": "stream",
     "text": [
      "index of 6 is -1\n",
      "index of 7 is -3\n",
      "index of 6 is -4\n",
      "index of 6 is -7\n"
     ]
    }
   ],
   "source": [
    "t = (6,4,5,6,7,8,6)\n",
    "a = -1\n",
    "while a >= -len(t):\n",
    "    if t[a] == 6 or t[a] == 7:\n",
    "        print('index of', t[a], 'is', a)\n",
    "    a = a-1"
   ]
  },
  {
   "cell_type": "code",
   "execution_count": 14,
   "id": "e3ee57af",
   "metadata": {},
   "outputs": [],
   "source": [
    "d = {'k1' : 'pawan', 'k2' : [1,2,3,4], 'k3' : (2,3,4,5)}"
   ]
  },
  {
   "cell_type": "code",
   "execution_count": 15,
   "id": "2d1c1074",
   "metadata": {},
   "outputs": [
    {
     "data": {
      "text/plain": [
       "3"
      ]
     },
     "execution_count": 15,
     "metadata": {},
     "output_type": "execute_result"
    }
   ],
   "source": [
    "len(d)"
   ]
  },
  {
   "cell_type": "code",
   "execution_count": 18,
   "id": "c54cb68e",
   "metadata": {},
   "outputs": [
    {
     "name": "stdout",
     "output_type": "stream",
     "text": [
      "pawan\n",
      "[1, 2, 3, 4]\n",
      "(2, 3, 4, 5)\n"
     ]
    }
   ],
   "source": [
    "a = 0\n",
    "b = list(d.keys())\n",
    "while a < len(d):\n",
    "    print(d[b[a]])\n",
    "    a = a+1\n",
    "    "
   ]
  },
  {
   "cell_type": "markdown",
   "id": "aa494b0d",
   "metadata": {},
   "source": [
    "# function"
   ]
  },
  {
   "cell_type": "code",
   "execution_count": 21,
   "id": "2af4dc7f",
   "metadata": {},
   "outputs": [],
   "source": [
    "def test():\n",
    "    print('this is my first function')"
   ]
  },
  {
   "cell_type": "code",
   "execution_count": 24,
   "id": "8a9a919d",
   "metadata": {},
   "outputs": [
    {
     "name": "stdout",
     "output_type": "stream",
     "text": [
      "this is my first function\n"
     ]
    }
   ],
   "source": [
    "test()"
   ]
  },
  {
   "cell_type": "code",
   "execution_count": 25,
   "id": "1944fa34",
   "metadata": {},
   "outputs": [
    {
     "name": "stdout",
     "output_type": "stream",
     "text": [
      "this is my first function\n"
     ]
    },
    {
     "ename": "TypeError",
     "evalue": "unsupported operand type(s) for +: 'NoneType' and 'str'",
     "output_type": "error",
     "traceback": [
      "\u001b[1;31m---------------------------------------------------------------------------\u001b[0m",
      "\u001b[1;31mTypeError\u001b[0m                                 Traceback (most recent call last)",
      "\u001b[1;32m~\\AppData\\Local\\Temp/ipykernel_4156/3849059249.py\u001b[0m in \u001b[0;36m<module>\u001b[1;34m\u001b[0m\n\u001b[1;32m----> 1\u001b[1;33m \u001b[0mtest\u001b[0m\u001b[1;33m(\u001b[0m\u001b[1;33m)\u001b[0m \u001b[1;33m+\u001b[0m \u001b[1;34m'pawan'\u001b[0m\u001b[1;33m\u001b[0m\u001b[1;33m\u001b[0m\u001b[0m\n\u001b[0m",
      "\u001b[1;31mTypeError\u001b[0m: unsupported operand type(s) for +: 'NoneType' and 'str'"
     ]
    }
   ],
   "source": [
    "test() + 'pawan'"
   ]
  },
  {
   "cell_type": "code",
   "execution_count": 26,
   "id": "003b5d10",
   "metadata": {},
   "outputs": [
    {
     "name": "stdout",
     "output_type": "stream",
     "text": [
      "this is my first function\n"
     ]
    },
    {
     "data": {
      "text/plain": [
       "'Nonepawan'"
      ]
     },
     "execution_count": 26,
     "metadata": {},
     "output_type": "execute_result"
    }
   ],
   "source": [
    "str(test()) +'pawan'"
   ]
  },
  {
   "cell_type": "code",
   "execution_count": 27,
   "id": "6f648819",
   "metadata": {},
   "outputs": [],
   "source": [
    "def test1():\n",
    "    return 'this is my first function'"
   ]
  },
  {
   "cell_type": "code",
   "execution_count": 30,
   "id": "a8758acf",
   "metadata": {},
   "outputs": [
    {
     "data": {
      "text/plain": [
       "str"
      ]
     },
     "execution_count": 30,
     "metadata": {},
     "output_type": "execute_result"
    }
   ],
   "source": [
    "type(test1())"
   ]
  },
  {
   "cell_type": "code",
   "execution_count": 33,
   "id": "f0bda10f",
   "metadata": {},
   "outputs": [
    {
     "data": {
      "text/plain": [
       "'this is my first function pawan'"
      ]
     },
     "execution_count": 33,
     "metadata": {},
     "output_type": "execute_result"
    }
   ],
   "source": [
    "test1() + ' pawan'"
   ]
  },
  {
   "cell_type": "code",
   "execution_count": 34,
   "id": "f57fece8",
   "metadata": {},
   "outputs": [
    {
     "ename": "IndentationError",
     "evalue": "expected an indented block (Temp/ipykernel_4156/1647743786.py, line 1)",
     "output_type": "error",
     "traceback": [
      "\u001b[1;36m  File \u001b[1;32m\"C:\\Users\\Pawan\\AppData\\Local\\Temp/ipykernel_4156/1647743786.py\"\u001b[1;36m, line \u001b[1;32m1\u001b[0m\n\u001b[1;33m    def test2():\u001b[0m\n\u001b[1;37m                ^\u001b[0m\n\u001b[1;31mIndentationError\u001b[0m\u001b[1;31m:\u001b[0m expected an indented block\n"
     ]
    }
   ],
   "source": [
    "def test2():"
   ]
  },
  {
   "cell_type": "code",
   "execution_count": 35,
   "id": "48a787a7",
   "metadata": {},
   "outputs": [],
   "source": [
    "def test3():\n",
    "    return 1,2,3,5,[1,2,3,5,54]"
   ]
  },
  {
   "cell_type": "code",
   "execution_count": 36,
   "id": "75841d7a",
   "metadata": {},
   "outputs": [
    {
     "data": {
      "text/plain": [
       "(1, 2, 3, 5, [1, 2, 3, 5, 54])"
      ]
     },
     "execution_count": 36,
     "metadata": {},
     "output_type": "execute_result"
    }
   ],
   "source": [
    "test3()"
   ]
  },
  {
   "cell_type": "code",
   "execution_count": null,
   "id": "377b997f",
   "metadata": {},
   "outputs": [],
   "source": []
  },
  {
   "cell_type": "code",
   "execution_count": null,
   "id": "d27bac8c",
   "metadata": {},
   "outputs": [],
   "source": []
  },
  {
   "cell_type": "code",
   "execution_count": 44,
   "id": "8770b930",
   "metadata": {},
   "outputs": [],
   "source": [
    "a,b,c,d,e = test3()"
   ]
  },
  {
   "cell_type": "code",
   "execution_count": 45,
   "id": "0dd9f198",
   "metadata": {},
   "outputs": [
    {
     "data": {
      "text/plain": [
       "1"
      ]
     },
     "execution_count": 45,
     "metadata": {},
     "output_type": "execute_result"
    }
   ],
   "source": [
    "a"
   ]
  },
  {
   "cell_type": "code",
   "execution_count": 48,
   "id": "602b5351",
   "metadata": {},
   "outputs": [],
   "source": [
    "def test4():\n",
    "    a = 4*5\n",
    "    b = 5+6\n",
    "    return a, b"
   ]
  },
  {
   "cell_type": "code",
   "execution_count": 49,
   "id": "98c2e057",
   "metadata": {},
   "outputs": [
    {
     "data": {
      "text/plain": [
       "(20, 11)"
      ]
     },
     "execution_count": 49,
     "metadata": {},
     "output_type": "execute_result"
    }
   ],
   "source": [
    "test4()"
   ]
  },
  {
   "cell_type": "code",
   "execution_count": 53,
   "id": "bc7a019c",
   "metadata": {},
   "outputs": [],
   "source": [
    "def test5():\n",
    "    a = 1\n",
    "    b = 10\n",
    "    while a <= b:\n",
    "        print(a)\n",
    "        a = a + 2\n",
    "    else:\n",
    "        print('print else block')"
   ]
  },
  {
   "cell_type": "code",
   "execution_count": 54,
   "id": "23e60341",
   "metadata": {},
   "outputs": [
    {
     "name": "stdout",
     "output_type": "stream",
     "text": [
      "1\n",
      "3\n",
      "5\n",
      "7\n",
      "9\n",
      "print else block\n"
     ]
    }
   ],
   "source": [
    "test5()"
   ]
  },
  {
   "cell_type": "code",
   "execution_count": 55,
   "id": "7397fecb",
   "metadata": {},
   "outputs": [],
   "source": [
    "def test6(a,b):\n",
    "    while a <= b:\n",
    "        print(a)\n",
    "        a = a + 2\n",
    "    else:\n",
    "        print('print else block')"
   ]
  },
  {
   "cell_type": "code",
   "execution_count": 56,
   "id": "c507b774",
   "metadata": {},
   "outputs": [
    {
     "name": "stdout",
     "output_type": "stream",
     "text": [
      "1\n",
      "3\n",
      "5\n",
      "7\n",
      "9\n",
      "print else block\n"
     ]
    }
   ],
   "source": [
    "test6(1,10)"
   ]
  },
  {
   "cell_type": "code",
   "execution_count": 58,
   "id": "1eabc76c",
   "metadata": {},
   "outputs": [
    {
     "name": "stdout",
     "output_type": "stream",
     "text": [
      "2\n",
      "4\n",
      "6\n",
      "8\n",
      "10\n",
      "12\n",
      "14\n",
      "16\n",
      "18\n",
      "20\n",
      "print else block\n"
     ]
    }
   ],
   "source": [
    "test6(2,20)"
   ]
  },
  {
   "cell_type": "code",
   "execution_count": 62,
   "id": "018051e2",
   "metadata": {},
   "outputs": [],
   "source": [
    "def test7(a,b):\n",
    "    l = []\n",
    "    while a <= b:\n",
    "        print(a)\n",
    "        l.append(a)\n",
    "        a = a + 2\n",
    "    else:\n",
    "        print('print this')\n",
    "    return l"
   ]
  },
  {
   "cell_type": "code",
   "execution_count": 64,
   "id": "ee26cb34",
   "metadata": {},
   "outputs": [
    {
     "name": "stdout",
     "output_type": "stream",
     "text": [
      "1\n",
      "3\n",
      "5\n",
      "7\n",
      "9\n",
      "print this\n"
     ]
    },
    {
     "data": {
      "text/plain": [
       "[1, 3, 5, 7, 9]"
      ]
     },
     "execution_count": 64,
     "metadata": {},
     "output_type": "execute_result"
    }
   ],
   "source": [
    "test7(1,10)"
   ]
  },
  {
   "cell_type": "code",
   "execution_count": 65,
   "id": "65a7d3fe",
   "metadata": {},
   "outputs": [],
   "source": [
    "\n"
   ]
  },
  {
   "cell_type": "code",
   "execution_count": 66,
   "id": "ebc8f53c",
   "metadata": {},
   "outputs": [],
   "source": [
    "l1 = []\n",
    "for i in l:\n",
    "    if type(i) == int:\n",
    "        l1.append(i)"
   ]
  },
  {
   "cell_type": "code",
   "execution_count": 67,
   "id": "f8e5769e",
   "metadata": {},
   "outputs": [
    {
     "data": {
      "text/plain": [
       "[4, 5, 6, 67, 7, 8, 8, 9, 9, 9, 9]"
      ]
     },
     "execution_count": 67,
     "metadata": {},
     "output_type": "execute_result"
    }
   ],
   "source": [
    "l1"
   ]
  },
  {
   "cell_type": "code",
   "execution_count": 74,
   "id": "ed5eec7c",
   "metadata": {},
   "outputs": [],
   "source": [
    "def test8():\n",
    "    l1 = []\n",
    "    for i in l:\n",
    "        if type(i) == int:\n",
    "            l1.append(i)\n",
    "        return l1"
   ]
  },
  {
   "cell_type": "code",
   "execution_count": 75,
   "id": "684b6395",
   "metadata": {},
   "outputs": [
    {
     "data": {
      "text/plain": [
       "[4]"
      ]
     },
     "execution_count": 75,
     "metadata": {},
     "output_type": "execute_result"
    }
   ],
   "source": [
    "test8()"
   ]
  },
  {
   "cell_type": "code",
   "execution_count": null,
   "id": "98230e4f",
   "metadata": {},
   "outputs": [],
   "source": []
  }
 ],
 "metadata": {
  "kernelspec": {
   "display_name": "Python 3 (ipykernel)",
   "language": "python",
   "name": "python3"
  },
  "language_info": {
   "codemirror_mode": {
    "name": "ipython",
    "version": 3
   },
   "file_extension": ".py",
   "mimetype": "text/x-python",
   "name": "python",
   "nbconvert_exporter": "python",
   "pygments_lexer": "ipython3",
   "version": "3.9.7"
  }
 },
 "nbformat": 4,
 "nbformat_minor": 5
}

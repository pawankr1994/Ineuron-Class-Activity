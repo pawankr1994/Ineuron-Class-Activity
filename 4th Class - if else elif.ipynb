{
 "cells": [
  {
   "cell_type": "code",
   "execution_count": 1,
   "id": "eccaaaf9",
   "metadata": {},
   "outputs": [
    {
     "name": "stdout",
     "output_type": "stream",
     "text": [
      "this is my first condition\n"
     ]
    }
   ],
   "source": [
    "a = 10\n",
    "if a == 10 :\n",
    "    print('this is my first condition')"
   ]
  },
  {
   "cell_type": "code",
   "execution_count": 2,
   "id": "c16f44c0",
   "metadata": {},
   "outputs": [],
   "source": [
    "a = 10\n",
    "if a == 11 :\n",
    "    print('this is my first condition')"
   ]
  },
  {
   "cell_type": "code",
   "execution_count": 3,
   "id": "928733eb",
   "metadata": {},
   "outputs": [],
   "source": [
    "a = 10\n",
    "if a > 5 :\n",
    "    pass"
   ]
  },
  {
   "cell_type": "code",
   "execution_count": 4,
   "id": "72f5dd42",
   "metadata": {},
   "outputs": [
    {
     "name": "stdout",
     "output_type": "stream",
     "text": [
      "if condition is true\n"
     ]
    }
   ],
   "source": [
    "a = 10\n",
    "if a > 8:\n",
    "    print('if condition is true')"
   ]
  },
  {
   "cell_type": "code",
   "execution_count": 5,
   "id": "cd50f847",
   "metadata": {},
   "outputs": [],
   "source": [
    "a = 10\n",
    "if a < 8:\n",
    "    print('if condition is true')"
   ]
  },
  {
   "cell_type": "code",
   "execution_count": 6,
   "id": "4680d00f",
   "metadata": {},
   "outputs": [
    {
     "name": "stdout",
     "output_type": "stream",
     "text": [
      "my condition is false\n"
     ]
    }
   ],
   "source": [
    "a = 10\n",
    "if a != 11 :\n",
    "    print('my condition is false')\n",
    "else :\n",
    "    print('this')\n",
    "          \n",
    "          "
   ]
  },
  {
   "cell_type": "code",
   "execution_count": 7,
   "id": "09fb7224",
   "metadata": {},
   "outputs": [
    {
     "name": "stdout",
     "output_type": "stream",
     "text": [
      "this\n"
     ]
    }
   ],
   "source": [
    "a = 10\n",
    "if a == 11 :\n",
    "    print('my condition is false')\n",
    "else :\n",
    "    print('this')\n",
    "          "
   ]
  },
  {
   "cell_type": "code",
   "execution_count": 8,
   "id": "0e63c8e5",
   "metadata": {},
   "outputs": [
    {
     "name": "stdout",
     "output_type": "stream",
     "text": [
      "if all the blocks will fail then do this\n"
     ]
    }
   ],
   "source": [
    "a = 10\n",
    "if a == 12 :\n",
    "    print('here we are trying to compare 10 with 12')\n",
    "elif a == 11 :\n",
    "    print ('we are trying to 10 with 11')\n",
    "else :\n",
    "    print('if all the blocks will fail then do this')"
   ]
  },
  {
   "cell_type": "code",
   "execution_count": 9,
   "id": "6270597a",
   "metadata": {},
   "outputs": [
    {
     "name": "stdout",
     "output_type": "stream",
     "text": [
      "we are trying to 10 with 10\n"
     ]
    }
   ],
   "source": [
    "a = 10\n",
    "if a == 12 :\n",
    "    print('here we are trying to compare 10 with 12')\n",
    "elif a == 10 :\n",
    "    print ('we are trying to 10 with 10')\n",
    "else :\n",
    "    print('if all the blocks will fail then do this')"
   ]
  },
  {
   "cell_type": "code",
   "execution_count": 10,
   "id": "33c2d8fb",
   "metadata": {},
   "outputs": [],
   "source": [
    "price = 500\n",
    "if price > 500 :\n",
    "    print('may be i wont be able to buy')\n",
    "elif price < 500:\n",
    "    print('i will be able to buy')"
   ]
  },
  {
   "cell_type": "code",
   "execution_count": 13,
   "id": "57c888ab",
   "metadata": {},
   "outputs": [
    {
     "name": "stdout",
     "output_type": "stream",
     "text": [
      "i will be able to buy\n"
     ]
    }
   ],
   "source": [
    "price = 500\n",
    "if price > 500 :\n",
    "    print('may be i wont be able to buy')\n",
    "elif price <= 500 :\n",
    "    print('i will be able to buy')"
   ]
  },
  {
   "cell_type": "code",
   "execution_count": 14,
   "id": "b26f69e8",
   "metadata": {},
   "outputs": [
    {
     "name": "stdout",
     "output_type": "stream",
     "text": [
      "i will buy\n"
     ]
    }
   ],
   "source": [
    "price = 500\n",
    "if price > 500 :\n",
    "    print('may be i wont be able to buy')\n",
    "elif price < 500:\n",
    "    print('i will be able to buy')\n",
    "elif price == 500 :\n",
    "    print('i will buy')\n",
    "else :\n",
    "    print('i dont know')"
   ]
  },
  {
   "cell_type": "code",
   "execution_count": 15,
   "id": "88725a00",
   "metadata": {},
   "outputs": [
    {
     "data": {
      "text/plain": [
       "False"
      ]
     },
     "execution_count": 15,
     "metadata": {},
     "output_type": "execute_result"
    }
   ],
   "source": [
    "price > 500"
   ]
  },
  {
   "cell_type": "code",
   "execution_count": 16,
   "id": "a2ac2a2e",
   "metadata": {},
   "outputs": [
    {
     "data": {
      "text/plain": [
       "True"
      ]
     },
     "execution_count": 16,
     "metadata": {},
     "output_type": "execute_result"
    }
   ],
   "source": [
    "l = [1,2,3,4,5,6]\n",
    "2 in l"
   ]
  },
  {
   "cell_type": "code",
   "execution_count": 17,
   "id": "bc7cd480",
   "metadata": {},
   "outputs": [
    {
     "name": "stdout",
     "output_type": "stream",
     "text": [
      "perform it\n"
     ]
    }
   ],
   "source": [
    "l = [1,2,3,4,5,6]\n",
    "if 2 in l :\n",
    "    print('perform it')\n",
    "else :\n",
    "    print('dont perform')"
   ]
  },
  {
   "cell_type": "code",
   "execution_count": 18,
   "id": "a2a1a070",
   "metadata": {},
   "outputs": [
    {
     "name": "stdout",
     "output_type": "stream",
     "text": [
      "dont perform\n"
     ]
    }
   ],
   "source": [
    "l = [1,2,3,4,5,6]\n",
    "if 60 in l :\n",
    "    print('perform it')\n",
    "else :\n",
    "    print('dont perform')"
   ]
  },
  {
   "cell_type": "code",
   "execution_count": 19,
   "id": "d622e73b",
   "metadata": {},
   "outputs": [
    {
     "name": "stdout",
     "output_type": "stream",
     "text": [
      "try to do addition\n"
     ]
    }
   ],
   "source": [
    "if 1 in l:\n",
    "    print('try to do addition')\n",
    "elif 2 in l:\n",
    "    print('try to do sub')\n",
    "elif 3 in l:\n",
    "    print('try to do multipicaTION')"
   ]
  },
  {
   "cell_type": "code",
   "execution_count": 20,
   "id": "cc1aefc4",
   "metadata": {},
   "outputs": [
    {
     "name": "stdout",
     "output_type": "stream",
     "text": [
      "try to do sub\n"
     ]
    }
   ],
   "source": [
    "if 10 in l:\n",
    "    print('try to do addition')\n",
    "elif 2 in l:\n",
    "    print('try to do sub')\n",
    "elif 3 in l:\n",
    "    print('try to do multipicaTION')"
   ]
  },
  {
   "cell_type": "code",
   "execution_count": 22,
   "id": "9c613888",
   "metadata": {},
   "outputs": [
    {
     "name": "stdout",
     "output_type": "stream",
     "text": [
      "try to do multipicaTION\n",
      "this is new statement\n"
     ]
    }
   ],
   "source": [
    "if 10 in l:\n",
    "    print('try to do addition')\n",
    "elif 20 in l:\n",
    "    print('try to do sub')\n",
    "elif 3 in l:\n",
    "    print('try to do multipicaTION')\n",
    "if 4 in l:\n",
    "    print('this is new statement')"
   ]
  },
  {
   "cell_type": "code",
   "execution_count": 30,
   "id": "75b904e9",
   "metadata": {},
   "outputs": [
    {
     "name": "stdout",
     "output_type": "stream",
     "text": [
      "jdbsjhdb\n"
     ]
    }
   ],
   "source": [
    "a = input()"
   ]
  },
  {
   "cell_type": "code",
   "execution_count": 31,
   "id": "9b515a01",
   "metadata": {},
   "outputs": [
    {
     "data": {
      "text/plain": [
       "'jdbsjhdb'"
      ]
     },
     "execution_count": 31,
     "metadata": {},
     "output_type": "execute_result"
    }
   ],
   "source": [
    "a"
   ]
  },
  {
   "cell_type": "code",
   "execution_count": 28,
   "id": "486264d6",
   "metadata": {},
   "outputs": [
    {
     "name": "stdout",
     "output_type": "stream",
     "text": [
      "345\n"
     ]
    }
   ],
   "source": [
    "b = int(input())"
   ]
  },
  {
   "cell_type": "code",
   "execution_count": 29,
   "id": "0a8c5424",
   "metadata": {},
   "outputs": [
    {
     "data": {
      "text/plain": [
       "345"
      ]
     },
     "execution_count": 29,
     "metadata": {},
     "output_type": "execute_result"
    }
   ],
   "source": [
    "b\n"
   ]
  },
  {
   "cell_type": "code",
   "execution_count": 39,
   "id": "fa0c3be1",
   "metadata": {},
   "outputs": [
    {
     "name": "stdout",
     "output_type": "stream",
     "text": [
      "900\n",
      "i wont be able to buy anything\n"
     ]
    }
   ],
   "source": [
    "price = int(input())\n",
    "if price < 500 :\n",
    "    print('i will be able to buy something')\n",
    "    if price < 400:\n",
    "        print ('i will be able to buy')\n",
    "    elif price< 300:\n",
    "        print('i will be able to buy')\n",
    "    else :\n",
    "        print('i wont be able to buy')\n",
    "else :\n",
    "    print('i wont be able to buy anything')"
   ]
  },
  {
   "cell_type": "code",
   "execution_count": 40,
   "id": "330ab6fe",
   "metadata": {},
   "outputs": [
    {
     "name": "stdout",
     "output_type": "stream",
     "text": [
      "600\n",
      "i wont be able to buy anything\n",
      "lets try something else\n"
     ]
    }
   ],
   "source": [
    "price = int(input())\n",
    "if price < 500 :\n",
    "    print('i will be able to buy something')\n",
    "    if price < 400:\n",
    "        print ('i will be able to buy')\n",
    "    elif price< 300:\n",
    "        print('i will be able to buy')\n",
    "        if price < 200:\n",
    "            print('i would like to do anything')\n",
    "    else :\n",
    "        print('i wont be able to buy')\n",
    "else :\n",
    "    print('i wont be able to buy anything')\n",
    "    if price > 500:\n",
    "        print('lets try something else')"
   ]
  },
  {
   "cell_type": "code",
   "execution_count": 43,
   "id": "6c58e454",
   "metadata": {},
   "outputs": [
    {
     "name": "stdout",
     "output_type": "stream",
     "text": [
      "enter a floating number:-25\n",
      "enter value is -\n"
     ]
    }
   ],
   "source": [
    "val = float(input('enter a floating number:'))\n",
    "if val >= 0:\n",
    "    if val == 0:\n",
    "        print('enterd value is zero')\n",
    "    else :\n",
    "        print('enter value is +')\n",
    "else :\n",
    "    print('enter value is -')"
   ]
  },
  {
   "cell_type": "code",
   "execution_count": 47,
   "id": "85caa66c",
   "metadata": {},
   "outputs": [
    {
     "name": "stdout",
     "output_type": "stream",
     "text": [
      "25\n"
     ]
    }
   ],
   "source": [
    "a = int(input())\n",
    "if a <= 10 or a == 10 :\n",
    "    print('try to do something')"
   ]
  },
  {
   "cell_type": "code",
   "execution_count": 49,
   "id": "a94dd390",
   "metadata": {},
   "outputs": [
    {
     "name": "stdout",
     "output_type": "stream",
     "text": [
      "26\n"
     ]
    }
   ],
   "source": [
    "a = int(input())\n",
    "if a <= 10 and a == 10 :\n",
    "    print('try to do something')"
   ]
  },
  {
   "cell_type": "code",
   "execution_count": 50,
   "id": "1ee2b9d1",
   "metadata": {},
   "outputs": [],
   "source": [
    "a = 10\n",
    "b = 11\n",
    "c = 12\n",
    "d = 13\n",
    "if a == 9 and b == 11 and c == 12 and d == 13:\n",
    "    print('lets do something')"
   ]
  },
  {
   "cell_type": "code",
   "execution_count": 51,
   "id": "16591045",
   "metadata": {},
   "outputs": [
    {
     "name": "stdout",
     "output_type": "stream",
     "text": [
      "lets do something\n"
     ]
    }
   ],
   "source": [
    "a = 10\n",
    "b = 11\n",
    "c = 12\n",
    "d = 13\n",
    "if a == 9 or b == 11 and c == 12 and d == 13:\n",
    "    print('lets do something')"
   ]
  },
  {
   "cell_type": "code",
   "execution_count": 52,
   "id": "0bc839ad",
   "metadata": {},
   "outputs": [],
   "source": [
    "d = {'key1' : 'values', 'key2' : 'pawan', 'key3' : 'iNeuron'}"
   ]
  },
  {
   "cell_type": "code",
   "execution_count": 57,
   "id": "18e927b3",
   "metadata": {},
   "outputs": [
    {
     "name": "stdout",
     "output_type": "stream",
     "text": [
      "all the values are verified\n"
     ]
    }
   ],
   "source": [
    "if d['key1'] == 'values' and d['key2'] == 'pawan' and d['key3'] == 'iNeuron' :\n",
    "    print('all the values are verified')\n",
    "else :\n",
    "    print('not verified')"
   ]
  },
  {
   "cell_type": "code",
   "execution_count": 58,
   "id": "f5d82e51",
   "metadata": {},
   "outputs": [],
   "source": [
    "l = [1,2,3,4,5, 'pawan', 234.45]"
   ]
  },
  {
   "cell_type": "code",
   "execution_count": 59,
   "id": "b6344dce",
   "metadata": {},
   "outputs": [
    {
     "name": "stdout",
     "output_type": "stream",
     "text": [
      "1\n",
      "2\n",
      "3\n",
      "4\n",
      "5\n",
      "pawan\n",
      "234.45\n"
     ]
    }
   ],
   "source": [
    "for i in l :\n",
    "    print(i)"
   ]
  },
  {
   "cell_type": "code",
   "execution_count": 60,
   "id": "ec815bda",
   "metadata": {},
   "outputs": [
    {
     "name": "stdout",
     "output_type": "stream",
     "text": [
      "2\n",
      "3\n",
      "4\n",
      "5\n",
      "6\n"
     ]
    },
    {
     "ename": "TypeError",
     "evalue": "can only concatenate str (not \"int\") to str",
     "output_type": "error",
     "traceback": [
      "\u001b[1;31m---------------------------------------------------------------------------\u001b[0m",
      "\u001b[1;31mTypeError\u001b[0m                                 Traceback (most recent call last)",
      "\u001b[1;32m~\\AppData\\Local\\Temp/ipykernel_6056/918082190.py\u001b[0m in \u001b[0;36m<module>\u001b[1;34m\u001b[0m\n\u001b[0;32m      1\u001b[0m \u001b[1;32mfor\u001b[0m \u001b[0mi\u001b[0m \u001b[1;32min\u001b[0m \u001b[0ml\u001b[0m \u001b[1;33m:\u001b[0m\u001b[1;33m\u001b[0m\u001b[1;33m\u001b[0m\u001b[0m\n\u001b[1;32m----> 2\u001b[1;33m     \u001b[0mprint\u001b[0m\u001b[1;33m(\u001b[0m\u001b[0mi\u001b[0m\u001b[1;33m+\u001b[0m\u001b[1;36m1\u001b[0m\u001b[1;33m)\u001b[0m\u001b[1;33m\u001b[0m\u001b[1;33m\u001b[0m\u001b[0m\n\u001b[0m",
      "\u001b[1;31mTypeError\u001b[0m: can only concatenate str (not \"int\") to str"
     ]
    }
   ],
   "source": [
    "for i in l :\n",
    "    print(i+1)"
   ]
  },
  {
   "cell_type": "code",
   "execution_count": 64,
   "id": "bf1b4e73",
   "metadata": {},
   "outputs": [
    {
     "name": "stdout",
     "output_type": "stream",
     "text": [
      "2\n",
      "3\n",
      "4\n",
      "5\n",
      "6\n",
      "pawan1\n",
      "235.45\n"
     ]
    }
   ],
   "source": [
    "for i in l :\n",
    "    if type(i) == int or type(i) == float:\n",
    "        print(i+1)\n",
    "    elif type(i) == str:\n",
    "        print(i + str(1))"
   ]
  },
  {
   "cell_type": "code",
   "execution_count": null,
   "id": "f6304b7e",
   "metadata": {},
   "outputs": [],
   "source": []
  }
 ],
 "metadata": {
  "kernelspec": {
   "display_name": "Python 3 (ipykernel)",
   "language": "python",
   "name": "python3"
  },
  "language_info": {
   "codemirror_mode": {
    "name": "ipython",
    "version": 3
   },
   "file_extension": ".py",
   "mimetype": "text/x-python",
   "name": "python",
   "nbconvert_exporter": "python",
   "pygments_lexer": "ipython3",
   "version": "3.9.7"
  }
 },
 "nbformat": 4,
 "nbformat_minor": 5
}

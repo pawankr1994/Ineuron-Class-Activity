{
 "cells": [
  {
   "cell_type": "code",
   "execution_count": 1,
   "id": "1b047648",
   "metadata": {},
   "outputs": [],
   "source": [
    "l = [1,3,4,5,6]"
   ]
  },
  {
   "cell_type": "code",
   "execution_count": 2,
   "id": "ab4aabb6",
   "metadata": {},
   "outputs": [
    {
     "name": "stdout",
     "output_type": "stream",
     "text": [
      "1\n",
      "3\n",
      "4\n",
      "5\n",
      "6\n"
     ]
    }
   ],
   "source": [
    "for i in l:\n",
    "    print(i)"
   ]
  },
  {
   "cell_type": "code",
   "execution_count": 3,
   "id": "c3af8874",
   "metadata": {},
   "outputs": [
    {
     "ename": "TypeError",
     "evalue": "'list' object is not an iterator",
     "output_type": "error",
     "traceback": [
      "\u001b[1;31m---------------------------------------------------------------------------\u001b[0m",
      "\u001b[1;31mTypeError\u001b[0m                                 Traceback (most recent call last)",
      "\u001b[1;32m~\\AppData\\Local\\Temp/ipykernel_1200/2016234150.py\u001b[0m in \u001b[0;36m<module>\u001b[1;34m\u001b[0m\n\u001b[1;32m----> 1\u001b[1;33m \u001b[0mnext\u001b[0m\u001b[1;33m(\u001b[0m\u001b[0ml\u001b[0m\u001b[1;33m)\u001b[0m\u001b[1;33m\u001b[0m\u001b[1;33m\u001b[0m\u001b[0m\n\u001b[0m",
      "\u001b[1;31mTypeError\u001b[0m: 'list' object is not an iterator"
     ]
    }
   ],
   "source": [
    "next(l)"
   ]
  },
  {
   "cell_type": "code",
   "execution_count": 4,
   "id": "3f1eb1ed",
   "metadata": {},
   "outputs": [],
   "source": [
    "b = iter(l)"
   ]
  },
  {
   "cell_type": "code",
   "execution_count": 5,
   "id": "9386618e",
   "metadata": {},
   "outputs": [
    {
     "data": {
      "text/plain": [
       "1"
      ]
     },
     "execution_count": 5,
     "metadata": {},
     "output_type": "execute_result"
    }
   ],
   "source": [
    "next(b)"
   ]
  },
  {
   "cell_type": "code",
   "execution_count": 6,
   "id": "a6d12f80",
   "metadata": {},
   "outputs": [
    {
     "data": {
      "text/plain": [
       "3"
      ]
     },
     "execution_count": 6,
     "metadata": {},
     "output_type": "execute_result"
    }
   ],
   "source": [
    "next(b)"
   ]
  },
  {
   "cell_type": "code",
   "execution_count": 7,
   "id": "8c457c58",
   "metadata": {},
   "outputs": [
    {
     "data": {
      "text/plain": [
       "4"
      ]
     },
     "execution_count": 7,
     "metadata": {},
     "output_type": "execute_result"
    }
   ],
   "source": [
    "next(b)"
   ]
  },
  {
   "cell_type": "code",
   "execution_count": 8,
   "id": "e0129f5f",
   "metadata": {},
   "outputs": [
    {
     "data": {
      "text/plain": [
       "5"
      ]
     },
     "execution_count": 8,
     "metadata": {},
     "output_type": "execute_result"
    }
   ],
   "source": [
    "next(b)"
   ]
  },
  {
   "cell_type": "code",
   "execution_count": 9,
   "id": "b7ec812d",
   "metadata": {},
   "outputs": [
    {
     "data": {
      "text/plain": [
       "6"
      ]
     },
     "execution_count": 9,
     "metadata": {},
     "output_type": "execute_result"
    }
   ],
   "source": [
    "next(b)"
   ]
  },
  {
   "cell_type": "code",
   "execution_count": 10,
   "id": "4977d5af",
   "metadata": {},
   "outputs": [
    {
     "ename": "StopIteration",
     "evalue": "",
     "output_type": "error",
     "traceback": [
      "\u001b[1;31m---------------------------------------------------------------------------\u001b[0m",
      "\u001b[1;31mStopIteration\u001b[0m                             Traceback (most recent call last)",
      "\u001b[1;32m~\\AppData\\Local\\Temp/ipykernel_1200/973617480.py\u001b[0m in \u001b[0;36m<module>\u001b[1;34m\u001b[0m\n\u001b[1;32m----> 1\u001b[1;33m \u001b[0mnext\u001b[0m\u001b[1;33m(\u001b[0m\u001b[0mb\u001b[0m\u001b[1;33m)\u001b[0m\u001b[1;33m\u001b[0m\u001b[1;33m\u001b[0m\u001b[0m\n\u001b[0m",
      "\u001b[1;31mStopIteration\u001b[0m: "
     ]
    }
   ],
   "source": [
    "next(b)"
   ]
  },
  {
   "cell_type": "code",
   "execution_count": 11,
   "id": "aa31990e",
   "metadata": {},
   "outputs": [],
   "source": [
    "# a dataset which will be iterable which can convert into iterator, means whatever data like a list tuple or string, if its iterable then only in that case you will be able to extract the data. if there is not iterable like integer you won't be able to convert those data into iterator.  "
   ]
  },
  {
   "cell_type": "code",
   "execution_count": 12,
   "id": "e26676ff",
   "metadata": {},
   "outputs": [],
   "source": [
    "s = 'pawan'"
   ]
  },
  {
   "cell_type": "code",
   "execution_count": 13,
   "id": "0c918cd5",
   "metadata": {},
   "outputs": [
    {
     "ename": "TypeError",
     "evalue": "'str' object is not an iterator",
     "output_type": "error",
     "traceback": [
      "\u001b[1;31m---------------------------------------------------------------------------\u001b[0m",
      "\u001b[1;31mTypeError\u001b[0m                                 Traceback (most recent call last)",
      "\u001b[1;32m~\\AppData\\Local\\Temp/ipykernel_1200/1977886155.py\u001b[0m in \u001b[0;36m<module>\u001b[1;34m\u001b[0m\n\u001b[1;32m----> 1\u001b[1;33m \u001b[0mnext\u001b[0m\u001b[1;33m(\u001b[0m\u001b[0ms\u001b[0m\u001b[1;33m)\u001b[0m\u001b[1;33m\u001b[0m\u001b[1;33m\u001b[0m\u001b[0m\n\u001b[0m",
      "\u001b[1;31mTypeError\u001b[0m: 'str' object is not an iterator"
     ]
    }
   ],
   "source": [
    "next(s)"
   ]
  },
  {
   "cell_type": "code",
   "execution_count": 15,
   "id": "069a3365",
   "metadata": {},
   "outputs": [],
   "source": [
    "b = iter(s)"
   ]
  },
  {
   "cell_type": "code",
   "execution_count": 17,
   "id": "dba698e8",
   "metadata": {},
   "outputs": [
    {
     "data": {
      "text/plain": [
       "'p'"
      ]
     },
     "execution_count": 17,
     "metadata": {},
     "output_type": "execute_result"
    }
   ],
   "source": [
    "next(b)"
   ]
  },
  {
   "cell_type": "code",
   "execution_count": 18,
   "id": "232b32fd",
   "metadata": {},
   "outputs": [
    {
     "name": "stdout",
     "output_type": "stream",
     "text": [
      "p\n",
      "a\n",
      "w\n",
      "a\n",
      "n\n"
     ]
    }
   ],
   "source": [
    "for i in s:\n",
    "    print(i)"
   ]
  },
  {
   "cell_type": "code",
   "execution_count": 2,
   "id": "67a7c800",
   "metadata": {},
   "outputs": [],
   "source": [
    "t = (5,6,7,8)"
   ]
  },
  {
   "cell_type": "code",
   "execution_count": 3,
   "id": "f607febc",
   "metadata": {},
   "outputs": [],
   "source": [
    "k = iter(t)"
   ]
  },
  {
   "cell_type": "code",
   "execution_count": 5,
   "id": "dc8c63c5",
   "metadata": {},
   "outputs": [
    {
     "data": {
      "text/plain": [
       "[1, 2, 3, 4, 5, 6, 7, 8, 9]"
      ]
     },
     "execution_count": 5,
     "metadata": {},
     "output_type": "execute_result"
    }
   ],
   "source": [
    "list(range(1,10))"
   ]
  },
  {
   "cell_type": "code",
   "execution_count": 9,
   "id": "af438099",
   "metadata": {},
   "outputs": [],
   "source": [
    "def square_fun(n):\n",
    "    x = [i*i for i in range(n)]\n",
    "    return x"
   ]
  },
  {
   "cell_type": "code",
   "execution_count": 10,
   "id": "46e683cd",
   "metadata": {},
   "outputs": [
    {
     "data": {
      "text/plain": [
       "[0, 1, 4, 9]"
      ]
     },
     "execution_count": 10,
     "metadata": {},
     "output_type": "execute_result"
    }
   ],
   "source": [
    "square_fun(4)"
   ]
  },
  {
   "cell_type": "code",
   "execution_count": 11,
   "id": "97000ccb",
   "metadata": {},
   "outputs": [],
   "source": [
    "def square_fun1(n):\n",
    "    x = [i*i for i in range(n)]\n",
    "    yield x"
   ]
  },
  {
   "cell_type": "code",
   "execution_count": 12,
   "id": "b030090d",
   "metadata": {},
   "outputs": [
    {
     "data": {
      "text/plain": [
       "<generator object square_fun1 at 0x0000003D35D792E0>"
      ]
     },
     "execution_count": 12,
     "metadata": {},
     "output_type": "execute_result"
    }
   ],
   "source": [
    "square_fun1(4)"
   ]
  },
  {
   "cell_type": "code",
   "execution_count": 13,
   "id": "096a426b",
   "metadata": {},
   "outputs": [
    {
     "name": "stdout",
     "output_type": "stream",
     "text": [
      "[0, 1, 4, 9]\n"
     ]
    }
   ],
   "source": [
    "for i in square_fun1(4):\n",
    "    print(i)"
   ]
  },
  {
   "cell_type": "code",
   "execution_count": 14,
   "id": "8f99ef09",
   "metadata": {},
   "outputs": [
    {
     "data": {
      "text/plain": [
       "[0, 1, 4, 9]"
      ]
     },
     "execution_count": 14,
     "metadata": {},
     "output_type": "execute_result"
    }
   ],
   "source": [
    "next(square_fun1(4))"
   ]
  },
  {
   "cell_type": "code",
   "execution_count": 15,
   "id": "a5af46b4",
   "metadata": {},
   "outputs": [
    {
     "ename": "TypeError",
     "evalue": "'range' object is not an iterator",
     "output_type": "error",
     "traceback": [
      "\u001b[1;31m---------------------------------------------------------------------------\u001b[0m",
      "\u001b[1;31mTypeError\u001b[0m                                 Traceback (most recent call last)",
      "\u001b[1;32m~\\AppData\\Local\\Temp/ipykernel_4316/2900367581.py\u001b[0m in \u001b[0;36m<module>\u001b[1;34m\u001b[0m\n\u001b[1;32m----> 1\u001b[1;33m \u001b[0mnext\u001b[0m\u001b[1;33m(\u001b[0m\u001b[0mrange\u001b[0m\u001b[1;33m(\u001b[0m\u001b[1;36m4\u001b[0m\u001b[1;33m)\u001b[0m\u001b[1;33m)\u001b[0m\u001b[1;33m\u001b[0m\u001b[1;33m\u001b[0m\u001b[0m\n\u001b[0m",
      "\u001b[1;31mTypeError\u001b[0m: 'range' object is not an iterator"
     ]
    }
   ],
   "source": [
    "next(range(4))"
   ]
  },
  {
   "cell_type": "code",
   "execution_count": 17,
   "id": "fa28ed5d",
   "metadata": {},
   "outputs": [],
   "source": [
    "r = iter(range(4))"
   ]
  },
  {
   "cell_type": "code",
   "execution_count": 18,
   "id": "73a6a651",
   "metadata": {},
   "outputs": [
    {
     "data": {
      "text/plain": [
       "0"
      ]
     },
     "execution_count": 18,
     "metadata": {},
     "output_type": "execute_result"
    }
   ],
   "source": [
    "next(r)"
   ]
  },
  {
   "cell_type": "code",
   "execution_count": 19,
   "id": "b1c8b57b",
   "metadata": {},
   "outputs": [
    {
     "data": {
      "text/plain": [
       "1"
      ]
     },
     "execution_count": 19,
     "metadata": {},
     "output_type": "execute_result"
    }
   ],
   "source": [
    "next(r)"
   ]
  },
  {
   "cell_type": "code",
   "execution_count": 20,
   "id": "374ae73f",
   "metadata": {},
   "outputs": [
    {
     "data": {
      "text/plain": [
       "2"
      ]
     },
     "execution_count": 20,
     "metadata": {},
     "output_type": "execute_result"
    }
   ],
   "source": [
    "next(r)"
   ]
  },
  {
   "cell_type": "code",
   "execution_count": 21,
   "id": "e38e4e39",
   "metadata": {},
   "outputs": [
    {
     "data": {
      "text/plain": [
       "3"
      ]
     },
     "execution_count": 21,
     "metadata": {},
     "output_type": "execute_result"
    }
   ],
   "source": [
    "next(r)"
   ]
  },
  {
   "cell_type": "code",
   "execution_count": 22,
   "id": "80b65b11",
   "metadata": {},
   "outputs": [
    {
     "ename": "StopIteration",
     "evalue": "",
     "output_type": "error",
     "traceback": [
      "\u001b[1;31m---------------------------------------------------------------------------\u001b[0m",
      "\u001b[1;31mStopIteration\u001b[0m                             Traceback (most recent call last)",
      "\u001b[1;32m~\\AppData\\Local\\Temp/ipykernel_4316/4134984757.py\u001b[0m in \u001b[0;36m<module>\u001b[1;34m\u001b[0m\n\u001b[1;32m----> 1\u001b[1;33m \u001b[0mnext\u001b[0m\u001b[1;33m(\u001b[0m\u001b[0mr\u001b[0m\u001b[1;33m)\u001b[0m\u001b[1;33m\u001b[0m\u001b[1;33m\u001b[0m\u001b[0m\n\u001b[0m",
      "\u001b[1;31mStopIteration\u001b[0m: "
     ]
    }
   ],
   "source": [
    "next(r)"
   ]
  },
  {
   "cell_type": "code",
   "execution_count": 31,
   "id": "9eb75dbc",
   "metadata": {},
   "outputs": [],
   "source": [
    "def genfib(n):\n",
    "    a = 1\n",
    "    b = 1\n",
    "    l = []\n",
    "    for i in range (n):\n",
    "        l.append(a)\n",
    "        a,b = b, a+b\n",
    "    return l"
   ]
  },
  {
   "cell_type": "code",
   "execution_count": 32,
   "id": "13d6d398",
   "metadata": {},
   "outputs": [
    {
     "data": {
      "text/plain": [
       "[1, 1, 2, 3, 5, 8, 13, 21, 34, 55]"
      ]
     },
     "execution_count": 32,
     "metadata": {},
     "output_type": "execute_result"
    }
   ],
   "source": [
    "genfib(10)"
   ]
  },
  {
   "cell_type": "code",
   "execution_count": 2,
   "id": "c7e06b16",
   "metadata": {},
   "outputs": [],
   "source": [
    "def genfib1(n):\n",
    "    a = 1\n",
    "    b = 1\n",
    "    for i in range (n):\n",
    "        yield a\n",
    "        a,b = b, a+b"
   ]
  },
  {
   "cell_type": "code",
   "execution_count": 4,
   "id": "60290cf7",
   "metadata": {},
   "outputs": [
    {
     "data": {
      "text/plain": [
       "<generator object genfib1 at 0x000000CFD3B6CB30>"
      ]
     },
     "execution_count": 4,
     "metadata": {},
     "output_type": "execute_result"
    }
   ],
   "source": [
    "genfib1(10)"
   ]
  },
  {
   "cell_type": "code",
   "execution_count": 5,
   "id": "a0066042",
   "metadata": {},
   "outputs": [
    {
     "name": "stdout",
     "output_type": "stream",
     "text": [
      "1\n",
      "1\n",
      "2\n",
      "3\n",
      "5\n",
      "8\n",
      "13\n",
      "21\n",
      "34\n",
      "55\n"
     ]
    }
   ],
   "source": [
    "for i in genfib1(10):\n",
    "    print(i)"
   ]
  },
  {
   "cell_type": "markdown",
   "id": "364e3a10",
   "metadata": {},
   "source": [
    "# File operation"
   ]
  },
  {
   "cell_type": "code",
   "execution_count": 6,
   "id": "8b349992",
   "metadata": {},
   "outputs": [],
   "source": [
    "f = open('pawan.txt','w')"
   ]
  },
  {
   "cell_type": "code",
   "execution_count": 15,
   "id": "2d672dbe",
   "metadata": {},
   "outputs": [
    {
     "name": "stdout",
     "output_type": "stream",
     "text": [
      " Volume in drive C has no label.\n",
      " Volume Serial Number is 8C38-8AD9\n",
      "\n",
      " Directory of C:\\Users\\Pawan\n",
      "\n",
      "23-Jun-22  11:34 PM    <DIR>          .\n",
      "23-Jun-22  11:34 PM    <DIR>          ..\n",
      "17-Apr-22  09:10 PM    <DIR>          .anaconda\n",
      "14-May-22  04:10 PM    <DIR>          .conda\n",
      "17-Apr-22  08:58 PM                25 .condarc\n",
      "17-Apr-22  08:58 PM    <DIR>          .continuum\n",
      "29-May-21  02:51 PM    <DIR>          .idlerc\n",
      "23-Jun-22  12:43 AM    <DIR>          .ipynb_checkpoints\n",
      "19-Apr-22  08:59 PM    <DIR>          .ipython\n",
      "18-Apr-22  03:03 PM    <DIR>          .jupyter\n",
      "08-May-22  06:34 PM    <DIR>          .matplotlib\n",
      "29-Feb-20  09:26 PM    <DIR>          .PyCharmCE2019.3\n",
      "17-Apr-22  10:06 PM    <DIR>          .spyder-py3\n",
      "17-Apr-22  09:11 PM    <DIR>          anaconda3\n",
      "12-May-22  09:08 PM    <DIR>          Contacts\n",
      "17-Jun-22  09:07 PM    <DIR>          Desktop\n",
      "23-May-22  12:24 PM    <DIR>          Documents\n",
      "23-Jun-22  11:34 PM    <DIR>          Downloads\n",
      "12-May-22  09:08 PM    <DIR>          Favorites\n",
      "28-May-22  05:40 PM            13,474 for loop.ipynb\n",
      "05-Jun-22  04:45 PM            18,545 function.ipynb\n",
      "22-May-22  05:25 PM            15,573 if else elif.ipynb\n",
      "23-Jun-22  11:33 PM            18,169 iterator, generator.ipynb\n",
      "12-May-22  09:08 PM    <DIR>          Links\n",
      "21-May-22  05:20 PM            45,260 list to set.ipynb\n",
      "21-May-22  05:29 PM            45,260 list.ipynb\n",
      "12-May-22  09:08 PM    <DIR>          Music\n",
      "23-Jun-22  11:16 PM    <DIR>          OneDrive\n",
      "23-Jun-22  11:28 PM                 0 pawan.txt\n",
      "12-May-22  09:08 PM    <DIR>          Pictures\n",
      "19-Jul-21  01:40 PM    <DIR>          PycharmProjects\n",
      "12-May-22  09:08 PM    <DIR>          Saved Games\n",
      "12-May-22  09:08 PM    <DIR>          Searches\n",
      "28-Feb-17  10:10 PM    <DIR>          SkyDrive\n",
      "12-Feb-17  02:27 AM    <DIR>          SkyDrive.old\n",
      "23-Jun-22  11:25 PM                16 test1.txt\n",
      "15-May-22  05:21 PM            47,552 Untitled.ipynb\n",
      "22-May-22  05:19 PM            15,573 Untitled1.ipynb\n",
      "12-Jun-22  06:04 PM            13,893 Untitled10.ipynb\n",
      "17-Jun-22  10:46 PM             2,366 Untitled11.ipynb\n",
      "28-May-22  05:22 PM            13,474 Untitled2.ipynb\n",
      "29-May-22  02:29 PM             3,319 Untitled3.ipynb\n",
      "29-May-22  05:36 PM            15,945 Untitled4.ipynb\n",
      "04-Jun-22  05:18 PM             1,111 Untitled5.ipynb\n",
      "05-Jun-22  04:44 PM            18,545 Untitled6.ipynb\n",
      "07-Jun-22  01:53 AM             6,591 Untitled7.ipynb\n",
      "14-Jun-22  01:42 AM            18,842 Untitled8.ipynb\n",
      "11-Jun-22  03:49 PM               856 Untitled9.ipynb\n",
      "14-May-22  05:07 PM             9,784 variable in python intro.ipynb\n",
      "12-May-22  09:08 PM    <DIR>          Videos\n",
      "29-May-22  09:28 PM            15,896 while .ipynb\n",
      "              23 File(s)        340,069 bytes\n",
      "              28 Dir(s)  44,010,287,104 bytes free\n"
     ]
    }
   ],
   "source": [
    "ls\\Users\\Pawan"
   ]
  },
  {
   "cell_type": "code",
   "execution_count": 16,
   "id": "820ebbac",
   "metadata": {},
   "outputs": [
    {
     "data": {
      "text/plain": [
       "26"
      ]
     },
     "execution_count": 16,
     "metadata": {},
     "output_type": "execute_result"
    }
   ],
   "source": [
    "f.write('this is my very first file')"
   ]
  },
  {
   "cell_type": "code",
   "execution_count": 17,
   "id": "98f4baf5",
   "metadata": {},
   "outputs": [],
   "source": [
    "f.close()"
   ]
  },
  {
   "cell_type": "code",
   "execution_count": 18,
   "id": "1cad4814",
   "metadata": {},
   "outputs": [
    {
     "name": "stdout",
     "output_type": "stream",
     "text": [
      " Volume in drive C has no label.\n",
      " Volume Serial Number is 8C38-8AD9\n",
      "\n",
      " Directory of C:\\Users\\Pawan\n",
      "\n",
      "23-Jun-22  11:39 PM    <DIR>          .\n",
      "23-Jun-22  11:39 PM    <DIR>          ..\n",
      "17-Apr-22  09:10 PM    <DIR>          .anaconda\n",
      "14-May-22  04:10 PM    <DIR>          .conda\n",
      "17-Apr-22  08:58 PM                25 .condarc\n",
      "17-Apr-22  08:58 PM    <DIR>          .continuum\n",
      "29-May-21  02:51 PM    <DIR>          .idlerc\n",
      "23-Jun-22  12:43 AM    <DIR>          .ipynb_checkpoints\n",
      "19-Apr-22  08:59 PM    <DIR>          .ipython\n",
      "18-Apr-22  03:03 PM    <DIR>          .jupyter\n",
      "08-May-22  06:34 PM    <DIR>          .matplotlib\n",
      "29-Feb-20  09:26 PM    <DIR>          .PyCharmCE2019.3\n",
      "17-Apr-22  10:06 PM    <DIR>          .spyder-py3\n",
      "17-Apr-22  09:11 PM    <DIR>          anaconda3\n",
      "12-May-22  09:08 PM    <DIR>          Contacts\n",
      "17-Jun-22  09:07 PM    <DIR>          Desktop\n",
      "23-May-22  12:24 PM    <DIR>          Documents\n",
      "23-Jun-22  11:34 PM    <DIR>          Downloads\n",
      "12-May-22  09:08 PM    <DIR>          Favorites\n",
      "28-May-22  05:40 PM            13,474 for loop.ipynb\n",
      "05-Jun-22  04:45 PM            18,545 function.ipynb\n",
      "22-May-22  05:25 PM            15,573 if else elif.ipynb\n",
      "23-Jun-22  11:39 PM            18,228 iterator, generator.ipynb\n",
      "12-May-22  09:08 PM    <DIR>          Links\n",
      "21-May-22  05:20 PM            45,260 list to set.ipynb\n",
      "21-May-22  05:29 PM            45,260 list.ipynb\n",
      "12-May-22  09:08 PM    <DIR>          Music\n",
      "23-Jun-22  11:16 PM    <DIR>          OneDrive\n",
      "23-Jun-22  11:40 PM                26 pawan.txt\n",
      "12-May-22  09:08 PM    <DIR>          Pictures\n",
      "19-Jul-21  01:40 PM    <DIR>          PycharmProjects\n",
      "12-May-22  09:08 PM    <DIR>          Saved Games\n",
      "12-May-22  09:08 PM    <DIR>          Searches\n",
      "28-Feb-17  10:10 PM    <DIR>          SkyDrive\n",
      "12-Feb-17  02:27 AM    <DIR>          SkyDrive.old\n",
      "23-Jun-22  11:25 PM                16 test1.txt\n",
      "15-May-22  05:21 PM            47,552 Untitled.ipynb\n",
      "22-May-22  05:19 PM            15,573 Untitled1.ipynb\n",
      "12-Jun-22  06:04 PM            13,893 Untitled10.ipynb\n",
      "17-Jun-22  10:46 PM             2,366 Untitled11.ipynb\n",
      "28-May-22  05:22 PM            13,474 Untitled2.ipynb\n",
      "29-May-22  02:29 PM             3,319 Untitled3.ipynb\n",
      "29-May-22  05:36 PM            15,945 Untitled4.ipynb\n",
      "04-Jun-22  05:18 PM             1,111 Untitled5.ipynb\n",
      "05-Jun-22  04:44 PM            18,545 Untitled6.ipynb\n",
      "07-Jun-22  01:53 AM             6,591 Untitled7.ipynb\n",
      "14-Jun-22  01:42 AM            18,842 Untitled8.ipynb\n",
      "11-Jun-22  03:49 PM               856 Untitled9.ipynb\n",
      "14-May-22  05:07 PM             9,784 variable in python intro.ipynb\n",
      "12-May-22  09:08 PM    <DIR>          Videos\n",
      "29-May-22  09:28 PM            15,896 while .ipynb\n",
      "              23 File(s)        340,154 bytes\n",
      "              28 Dir(s)  44,008,038,400 bytes free\n"
     ]
    }
   ],
   "source": [
    "ls"
   ]
  },
  {
   "cell_type": "code",
   "execution_count": 19,
   "id": "ea68353d",
   "metadata": {},
   "outputs": [],
   "source": [
    "f1 = open('test1.txt', 'w')"
   ]
  },
  {
   "cell_type": "code",
   "execution_count": 20,
   "id": "fd2189ff",
   "metadata": {},
   "outputs": [
    {
     "data": {
      "text/plain": [
       "24"
      ]
     },
     "execution_count": 20,
     "metadata": {},
     "output_type": "execute_result"
    }
   ],
   "source": [
    "f1.write('this is a file operation')"
   ]
  },
  {
   "cell_type": "code",
   "execution_count": 21,
   "id": "0a788b31",
   "metadata": {},
   "outputs": [],
   "source": [
    "f1.close()"
   ]
  },
  {
   "cell_type": "code",
   "execution_count": 22,
   "id": "ed780703",
   "metadata": {},
   "outputs": [],
   "source": [
    "l = [1,2,3,43,5,65,5,5,5,678,9]"
   ]
  },
  {
   "cell_type": "code",
   "execution_count": 23,
   "id": "87fe2852",
   "metadata": {},
   "outputs": [],
   "source": [
    "f2 = open('test2.txt', 'w')"
   ]
  },
  {
   "cell_type": "code",
   "execution_count": 24,
   "id": "f75040e0",
   "metadata": {},
   "outputs": [
    {
     "data": {
      "text/plain": [
       "37"
      ]
     },
     "execution_count": 24,
     "metadata": {},
     "output_type": "execute_result"
    }
   ],
   "source": [
    "f2.write(str(l))"
   ]
  },
  {
   "cell_type": "code",
   "execution_count": 25,
   "id": "8033868f",
   "metadata": {},
   "outputs": [],
   "source": [
    "f2.close()"
   ]
  },
  {
   "cell_type": "code",
   "execution_count": 26,
   "id": "7f304cfe",
   "metadata": {},
   "outputs": [],
   "source": [
    "f3 = open('test.pk', 'w')\n",
    "f3.write('this is it')\n",
    "f3.close()"
   ]
  },
  {
   "cell_type": "code",
   "execution_count": 28,
   "id": "17288640",
   "metadata": {},
   "outputs": [
    {
     "name": "stdout",
     "output_type": "stream",
     "text": [
      "Overwriting test5.txt\n"
     ]
    }
   ],
   "source": [
    "%%writefile test5.txt\n",
    "this is the different way of writing\n",
    "this is the different way of writing\n",
    "this is the different way of writing\n",
    "this is the different way of writing"
   ]
  },
  {
   "cell_type": "code",
   "execution_count": 29,
   "id": "dfac0b6f",
   "metadata": {},
   "outputs": [],
   "source": [
    "f5 = open('test5.txt')"
   ]
  },
  {
   "cell_type": "code",
   "execution_count": 30,
   "id": "2b5f4882",
   "metadata": {},
   "outputs": [
    {
     "data": {
      "text/plain": [
       "'this is the different way of writing\\nthis is the different way of writing\\nthis is the different way of writing\\nthis is the different way of writing\\n'"
      ]
     },
     "execution_count": 30,
     "metadata": {},
     "output_type": "execute_result"
    }
   ],
   "source": [
    "f5.read()"
   ]
  },
  {
   "cell_type": "code",
   "execution_count": 31,
   "id": "244a7b51",
   "metadata": {},
   "outputs": [
    {
     "data": {
      "text/plain": [
       "0"
      ]
     },
     "execution_count": 31,
     "metadata": {},
     "output_type": "execute_result"
    }
   ],
   "source": [
    "f5.seek(0)"
   ]
  },
  {
   "cell_type": "code",
   "execution_count": 32,
   "id": "b3dedd95",
   "metadata": {},
   "outputs": [
    {
     "data": {
      "text/plain": [
       "'this is the different way of writing\\nthis is the different way of writing\\nthis is the different way of writing\\nthis is the different way of writing\\n'"
      ]
     },
     "execution_count": 32,
     "metadata": {},
     "output_type": "execute_result"
    }
   ],
   "source": [
    "f5.read()"
   ]
  },
  {
   "cell_type": "code",
   "execution_count": 33,
   "id": "a1bd076e",
   "metadata": {},
   "outputs": [
    {
     "data": {
      "text/plain": [
       "''"
      ]
     },
     "execution_count": 33,
     "metadata": {},
     "output_type": "execute_result"
    }
   ],
   "source": [
    "f5.read()"
   ]
  },
  {
   "cell_type": "code",
   "execution_count": 34,
   "id": "67cde719",
   "metadata": {},
   "outputs": [],
   "source": [
    "f1 = open('test5.txt')"
   ]
  },
  {
   "cell_type": "code",
   "execution_count": 35,
   "id": "ef176f1f",
   "metadata": {},
   "outputs": [
    {
     "data": {
      "text/plain": [
       "0"
      ]
     },
     "execution_count": 35,
     "metadata": {},
     "output_type": "execute_result"
    }
   ],
   "source": [
    "f1.tell()"
   ]
  },
  {
   "cell_type": "code",
   "execution_count": 36,
   "id": "a24b4918",
   "metadata": {},
   "outputs": [
    {
     "data": {
      "text/plain": [
       "'this is the different way of writing\\nthis is the different way of writing\\nthis is the different way of writing\\nthis is the different way of writing\\n'"
      ]
     },
     "execution_count": 36,
     "metadata": {},
     "output_type": "execute_result"
    }
   ],
   "source": [
    "f1.read()"
   ]
  },
  {
   "cell_type": "code",
   "execution_count": 38,
   "id": "594beb6b",
   "metadata": {},
   "outputs": [
    {
     "data": {
      "text/plain": [
       "152"
      ]
     },
     "execution_count": 38,
     "metadata": {},
     "output_type": "execute_result"
    }
   ],
   "source": [
    "f1.tell()"
   ]
  },
  {
   "cell_type": "code",
   "execution_count": 39,
   "id": "aa580fc5",
   "metadata": {},
   "outputs": [
    {
     "data": {
      "text/plain": [
       "5"
      ]
     },
     "execution_count": 39,
     "metadata": {},
     "output_type": "execute_result"
    }
   ],
   "source": [
    "f1.seek(5)"
   ]
  },
  {
   "cell_type": "code",
   "execution_count": 40,
   "id": "19728444",
   "metadata": {},
   "outputs": [
    {
     "data": {
      "text/plain": [
       "5"
      ]
     },
     "execution_count": 40,
     "metadata": {},
     "output_type": "execute_result"
    }
   ],
   "source": [
    "f1.tell()"
   ]
  },
  {
   "cell_type": "code",
   "execution_count": 41,
   "id": "2c5849f3",
   "metadata": {},
   "outputs": [
    {
     "data": {
      "text/plain": [
       "'is the differen'"
      ]
     },
     "execution_count": 41,
     "metadata": {},
     "output_type": "execute_result"
    }
   ],
   "source": [
    "f1.read(15)"
   ]
  },
  {
   "cell_type": "code",
   "execution_count": 42,
   "id": "b6450d7a",
   "metadata": {},
   "outputs": [
    {
     "data": {
      "text/plain": [
       "'t way of writing\\nthis is the different way of writing\\nthis is the different way of writing\\nthis is the different way of writing\\n'"
      ]
     },
     "execution_count": 42,
     "metadata": {},
     "output_type": "execute_result"
    }
   ],
   "source": [
    "f1.read()"
   ]
  },
  {
   "cell_type": "code",
   "execution_count": 43,
   "id": "7b8c9f20",
   "metadata": {},
   "outputs": [],
   "source": [
    "f2 = open('test5.txt')"
   ]
  },
  {
   "cell_type": "code",
   "execution_count": 44,
   "id": "c68200ac",
   "metadata": {},
   "outputs": [
    {
     "data": {
      "text/plain": [
       "'this is the different way of writing\\nthis is the different way of writing\\nthis is the different way of writing\\nthis is the different way of writing\\n'"
      ]
     },
     "execution_count": 44,
     "metadata": {},
     "output_type": "execute_result"
    }
   ],
   "source": [
    "f2.read()"
   ]
  },
  {
   "cell_type": "code",
   "execution_count": 54,
   "id": "7d562f9b",
   "metadata": {},
   "outputs": [
    {
     "data": {
      "text/plain": [
       "0"
      ]
     },
     "execution_count": 54,
     "metadata": {},
     "output_type": "execute_result"
    }
   ],
   "source": [
    "f2.seek(0)"
   ]
  },
  {
   "cell_type": "code",
   "execution_count": 55,
   "id": "6085ccbc",
   "metadata": {},
   "outputs": [
    {
     "data": {
      "text/plain": [
       "'this is the different way of writing\\n'"
      ]
     },
     "execution_count": 55,
     "metadata": {},
     "output_type": "execute_result"
    }
   ],
   "source": [
    "f2.readline()"
   ]
  },
  {
   "cell_type": "code",
   "execution_count": 56,
   "id": "676c4059",
   "metadata": {},
   "outputs": [
    {
     "data": {
      "text/plain": [
       "['this is the different way of writing\\n',\n",
       " 'this is the different way of writing\\n',\n",
       " 'this is the different way of writing\\n']"
      ]
     },
     "execution_count": 56,
     "metadata": {},
     "output_type": "execute_result"
    }
   ],
   "source": [
    "f2.readlines()"
   ]
  },
  {
   "cell_type": "code",
   "execution_count": 57,
   "id": "8869849a",
   "metadata": {},
   "outputs": [
    {
     "data": {
      "text/plain": [
       "<_io.TextIOWrapper name='test5.txt' mode='r' encoding='cp1252'>"
      ]
     },
     "execution_count": 57,
     "metadata": {},
     "output_type": "execute_result"
    }
   ],
   "source": [
    "f2"
   ]
  },
  {
   "cell_type": "code",
   "execution_count": 58,
   "id": "2b557b3a",
   "metadata": {},
   "outputs": [
    {
     "data": {
      "text/plain": [
       "6"
      ]
     },
     "execution_count": 58,
     "metadata": {},
     "output_type": "execute_result"
    }
   ],
   "source": [
    "f2.fileno()"
   ]
  },
  {
   "cell_type": "code",
   "execution_count": 59,
   "id": "0669ae25",
   "metadata": {},
   "outputs": [],
   "source": [
    "f = open('test.txt', 'w')"
   ]
  },
  {
   "cell_type": "code",
   "execution_count": 60,
   "id": "e5916f1e",
   "metadata": {},
   "outputs": [
    {
     "data": {
      "text/plain": [
       "29"
      ]
     },
     "execution_count": 60,
     "metadata": {},
     "output_type": "execute_result"
    }
   ],
   "source": [
    "f.write('ufbubundncubusdbufbfbubfubfbu')"
   ]
  },
  {
   "cell_type": "code",
   "execution_count": 61,
   "id": "52366728",
   "metadata": {},
   "outputs": [],
   "source": [
    "f.close()"
   ]
  },
  {
   "cell_type": "code",
   "execution_count": 62,
   "id": "ff0bfccc",
   "metadata": {},
   "outputs": [],
   "source": [
    "f = open('test.txt', 'a')"
   ]
  },
  {
   "cell_type": "code",
   "execution_count": 63,
   "id": "98b7d2d0",
   "metadata": {},
   "outputs": [
    {
     "data": {
      "text/plain": [
       "16"
      ]
     },
     "execution_count": 63,
     "metadata": {},
     "output_type": "execute_result"
    }
   ],
   "source": [
    "f.write('this is appended')"
   ]
  },
  {
   "cell_type": "code",
   "execution_count": 64,
   "id": "55d36020",
   "metadata": {},
   "outputs": [],
   "source": [
    "f.close()"
   ]
  },
  {
   "cell_type": "code",
   "execution_count": 65,
   "id": "d68d48ba",
   "metadata": {},
   "outputs": [
    {
     "data": {
      "text/plain": [
       "'test.txt'"
      ]
     },
     "execution_count": 65,
     "metadata": {},
     "output_type": "execute_result"
    }
   ],
   "source": [
    "f.name"
   ]
  },
  {
   "cell_type": "code",
   "execution_count": 66,
   "id": "4f618f2a",
   "metadata": {},
   "outputs": [
    {
     "data": {
      "text/plain": [
       "True"
      ]
     },
     "execution_count": 66,
     "metadata": {},
     "output_type": "execute_result"
    }
   ],
   "source": [
    "f.closed"
   ]
  },
  {
   "cell_type": "code",
   "execution_count": 67,
   "id": "8f002cdd",
   "metadata": {},
   "outputs": [
    {
     "data": {
      "text/plain": [
       "'a'"
      ]
     },
     "execution_count": 67,
     "metadata": {},
     "output_type": "execute_result"
    }
   ],
   "source": [
    "f.mode"
   ]
  },
  {
   "cell_type": "markdown",
   "id": "952afe3c",
   "metadata": {},
   "source": [
    "map reduce filter"
   ]
  },
  {
   "cell_type": "code",
   "execution_count": 68,
   "id": "cc7d2f34",
   "metadata": {},
   "outputs": [],
   "source": [
    "l = [2,3,4,5,6,5]"
   ]
  },
  {
   "cell_type": "code",
   "execution_count": 71,
   "id": "826bbc6e",
   "metadata": {},
   "outputs": [],
   "source": [
    "l1=[]\n",
    "for i in l:\n",
    "    l1.append(i**2)"
   ]
  },
  {
   "cell_type": "code",
   "execution_count": 76,
   "id": "e48db2fc",
   "metadata": {},
   "outputs": [
    {
     "data": {
      "text/plain": [
       "[4, 9, 16, 25, 36, 25]"
      ]
     },
     "execution_count": 76,
     "metadata": {},
     "output_type": "execute_result"
    }
   ],
   "source": [
    "l1"
   ]
  },
  {
   "cell_type": "code",
   "execution_count": null,
   "id": "cc93baaa",
   "metadata": {},
   "outputs": [],
   "source": [
    "def sq(n):\n",
    "    return n**2"
   ]
  },
  {
   "cell_type": "code",
   "execution_count": null,
   "id": "ab56631c",
   "metadata": {},
   "outputs": [],
   "source": []
  },
  {
   "cell_type": "code",
   "execution_count": null,
   "id": "c5af81db",
   "metadata": {},
   "outputs": [],
   "source": []
  },
  {
   "cell_type": "code",
   "execution_count": 77,
   "id": "46ee964a",
   "metadata": {},
   "outputs": [
    {
     "data": {
      "text/plain": [
       "[4, 9, 16, 25, 36, 25]"
      ]
     },
     "execution_count": 77,
     "metadata": {},
     "output_type": "execute_result"
    }
   ],
   "source": [
    "list(map(sq,l))"
   ]
  },
  {
   "cell_type": "code",
   "execution_count": 79,
   "id": "d4992f92",
   "metadata": {},
   "outputs": [
    {
     "data": {
      "text/plain": [
       "[4, 9, 16, 25, 36, 25]"
      ]
     },
     "execution_count": 79,
     "metadata": {},
     "output_type": "execute_result"
    }
   ],
   "source": [
    "list(map(lambda x: x**2, l))"
   ]
  },
  {
   "cell_type": "code",
   "execution_count": 80,
   "id": "ebcaaa08",
   "metadata": {},
   "outputs": [
    {
     "data": {
      "text/plain": [
       "[2, 3, 4, 5, 6, 5]"
      ]
     },
     "execution_count": 80,
     "metadata": {},
     "output_type": "execute_result"
    }
   ],
   "source": [
    "l"
   ]
  },
  {
   "cell_type": "code",
   "execution_count": 82,
   "id": "b278609e",
   "metadata": {},
   "outputs": [
    {
     "data": {
      "text/plain": [
       "['2', '3', '4', '5', '6', '5']"
      ]
     },
     "execution_count": 82,
     "metadata": {},
     "output_type": "execute_result"
    }
   ],
   "source": [
    "list(map(lambda x : str(x), l))"
   ]
  },
  {
   "cell_type": "code",
   "execution_count": 83,
   "id": "0129f7d9",
   "metadata": {},
   "outputs": [
    {
     "data": {
      "text/plain": [
       "['2', '3', '4', '5', '6', '5']"
      ]
     },
     "execution_count": 83,
     "metadata": {},
     "output_type": "execute_result"
    }
   ],
   "source": [
    "list(map(str,l))"
   ]
  },
  {
   "cell_type": "code",
   "execution_count": null,
   "id": "c1427314",
   "metadata": {},
   "outputs": [],
   "source": []
  },
  {
   "cell_type": "code",
   "execution_count": 84,
   "id": "3c2d558f",
   "metadata": {},
   "outputs": [],
   "source": [
    "from functools import reduce"
   ]
  },
  {
   "cell_type": "code",
   "execution_count": 85,
   "id": "7209d554",
   "metadata": {},
   "outputs": [],
   "source": [
    "l = [3,4,5,6,7,8,9]"
   ]
  },
  {
   "cell_type": "code",
   "execution_count": 86,
   "id": "1daad1d6",
   "metadata": {},
   "outputs": [
    {
     "data": {
      "text/plain": [
       "42"
      ]
     },
     "execution_count": 86,
     "metadata": {},
     "output_type": "execute_result"
    }
   ],
   "source": [
    "sum(l)"
   ]
  },
  {
   "cell_type": "code",
   "execution_count": 87,
   "id": "33be178c",
   "metadata": {},
   "outputs": [
    {
     "data": {
      "text/plain": [
       "42"
      ]
     },
     "execution_count": 87,
     "metadata": {},
     "output_type": "execute_result"
    }
   ],
   "source": [
    "reduce(lambda a,b: a+b, l)"
   ]
  },
  {
   "cell_type": "code",
   "execution_count": 89,
   "id": "78bd5786",
   "metadata": {},
   "outputs": [
    {
     "ename": "TypeError",
     "evalue": "<lambda>() missing 1 required positional argument: 'c'",
     "output_type": "error",
     "traceback": [
      "\u001b[1;31m---------------------------------------------------------------------------\u001b[0m",
      "\u001b[1;31mTypeError\u001b[0m                                 Traceback (most recent call last)",
      "\u001b[1;32m~\\AppData\\Local\\Temp/ipykernel_6580/2443526546.py\u001b[0m in \u001b[0;36m<module>\u001b[1;34m\u001b[0m\n\u001b[1;32m----> 1\u001b[1;33m \u001b[0mreduce\u001b[0m\u001b[1;33m(\u001b[0m\u001b[1;32mlambda\u001b[0m \u001b[0ma\u001b[0m\u001b[1;33m,\u001b[0m\u001b[0mb\u001b[0m\u001b[1;33m,\u001b[0m\u001b[0mc\u001b[0m\u001b[1;33m:\u001b[0m \u001b[0ma\u001b[0m\u001b[1;33m*\u001b[0m\u001b[0mb\u001b[0m\u001b[1;33m*\u001b[0m\u001b[0mc\u001b[0m\u001b[1;33m,\u001b[0m \u001b[0ml\u001b[0m\u001b[1;33m)\u001b[0m\u001b[1;33m\u001b[0m\u001b[1;33m\u001b[0m\u001b[0m\n\u001b[0m",
      "\u001b[1;31mTypeError\u001b[0m: <lambda>() missing 1 required positional argument: 'c'"
     ]
    }
   ],
   "source": [
    "reduce(lambda a,b,c: a*b*c, l)"
   ]
  },
  {
   "cell_type": "code",
   "execution_count": 90,
   "id": "94386ef2",
   "metadata": {},
   "outputs": [
    {
     "data": {
      "text/plain": [
       "181440"
      ]
     },
     "execution_count": 90,
     "metadata": {},
     "output_type": "execute_result"
    }
   ],
   "source": [
    "reduce(lambda a,b: a*b, l)"
   ]
  },
  {
   "cell_type": "code",
   "execution_count": 91,
   "id": "219c30d5",
   "metadata": {},
   "outputs": [],
   "source": [
    "l = [1,2,3,4,5,6,7,8,3,2,2,4,6,8]"
   ]
  },
  {
   "cell_type": "code",
   "execution_count": 94,
   "id": "d99f073d",
   "metadata": {},
   "outputs": [
    {
     "data": {
      "text/plain": [
       "[2, 4, 6, 8, 2, 2, 4, 6, 8]"
      ]
     },
     "execution_count": 94,
     "metadata": {},
     "output_type": "execute_result"
    }
   ],
   "source": [
    "list(filter(lambda x : x%2==0, l))"
   ]
  },
  {
   "cell_type": "code",
   "execution_count": 96,
   "id": "cfbc82ee",
   "metadata": {},
   "outputs": [],
   "source": [
    "def check_even(n):\n",
    "    if n%2 == 0:\n",
    "        return True"
   ]
  },
  {
   "cell_type": "code",
   "execution_count": 97,
   "id": "84db1307",
   "metadata": {},
   "outputs": [
    {
     "data": {
      "text/plain": [
       "[2, 4, 6, 8, 2, 2, 4, 6, 8]"
      ]
     },
     "execution_count": 97,
     "metadata": {},
     "output_type": "execute_result"
    }
   ],
   "source": [
    "list(filter(check_even,l))"
   ]
  },
  {
   "cell_type": "code",
   "execution_count": null,
   "id": "3a6981b4",
   "metadata": {},
   "outputs": [],
   "source": []
  }
 ],
 "metadata": {
  "kernelspec": {
   "display_name": "Python 3 (ipykernel)",
   "language": "python",
   "name": "python3"
  },
  "language_info": {
   "codemirror_mode": {
    "name": "ipython",
    "version": 3
   },
   "file_extension": ".py",
   "mimetype": "text/x-python",
   "name": "python",
   "nbconvert_exporter": "python",
   "pygments_lexer": "ipython3",
   "version": "3.9.7"
  }
 },
 "nbformat": 4,
 "nbformat_minor": 5
}
